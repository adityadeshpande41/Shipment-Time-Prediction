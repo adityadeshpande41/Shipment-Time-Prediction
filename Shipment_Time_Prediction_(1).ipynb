{
  "cells": [
    {
      "cell_type": "code",
      "execution_count": null,
      "metadata": {
        "colab": {
          "base_uri": "https://localhost:8080/"
        },
        "id": "ZfRCnBUtT46t",
        "outputId": "40ed1d0c-73d4-44a5-c206-c126c089fef6"
      },
      "outputs": [
        {
          "output_type": "stream",
          "name": "stdout",
          "text": [
            "Mounted at /content/drive\n"
          ]
        }
      ],
      "source": [
        "from google.colab import drive\n",
        "drive.mount('/content/drive')"
      ]
    },
    {
      "cell_type": "markdown",
      "metadata": {
        "id": "slwwmQaFcP36"
      },
      "source": [
        "IMPORTING THE REQUIRED LIBRARIES"
      ]
    },
    {
      "cell_type": "code",
      "execution_count": null,
      "metadata": {
        "id": "-HrFMEhtcSxC"
      },
      "outputs": [],
      "source": [
        "import pandas as pd\n",
        "import numpy as np\n",
        "import matplotlib.pyplot as plt\n",
        "import seaborn as sns\n",
        "from sklearn.model_selection import train_test_split\n",
        "from sklearn.linear_model import LinearRegression\n",
        "from sklearn.metrics import accuracy_score\n",
        "from sklearn.preprocessing import LabelEncoder\n"
      ]
    },
    {
      "cell_type": "markdown",
      "metadata": {
        "id": "CUYiCY4ldSFy"
      },
      "source": [
        "IMPORTING THE DATASET"
      ]
    },
    {
      "cell_type": "code",
      "execution_count": null,
      "metadata": {
        "colab": {
          "base_uri": "https://localhost:8080/",
          "height": 678
        },
        "id": "TKV3MytyiXZX",
        "outputId": "607e8386-1d8f-46d7-e76e-7f80bcf773c4"
      },
      "outputs": [
        {
          "output_type": "execute_result",
          "data": {
            "text/plain": [
              "      Unnamed: 0 shipment_id       send_timestamp pick_up_point  \\\n",
              "0              0     S000720  2019-06-08 07:17:51             A   \n",
              "1              1     S000725  2019-07-12 15:23:21             A   \n",
              "2              2     S000736  2019-10-04 14:23:29             A   \n",
              "3              3     S000738  2020-01-07 09:19:50             A   \n",
              "4              4     S000739  2020-04-11 06:36:03             A   \n",
              "...          ...         ...                  ...           ...   \n",
              "3342        3342     S770724  2019-07-11 12:41:49             A   \n",
              "3343        3343     S770735  2019-09-24 11:55:44             A   \n",
              "3344        3344     S771736  2019-11-08 10:52:29             A   \n",
              "3345        3345     S771738  2020-03-12 12:54:27             A   \n",
              "3346        3346     S772707  2019-03-20 19:27:51             A   \n",
              "\n",
              "     drop_off_point source_country destination_country  freight_cost  \\\n",
              "0                 Y             GB                  IN         88.61   \n",
              "1                 Y             GB                  IN         85.65   \n",
              "2                 Y             GB                  IN         86.22   \n",
              "3                 Y             GB                  IN         94.43   \n",
              "4                 Y             GB                  IN         94.24   \n",
              "...             ...            ...                 ...           ...   \n",
              "3342              Y             GB                  IN         85.60   \n",
              "3343              Y             GB                  IN         88.53   \n",
              "3344              Y             GB                  IN         90.85   \n",
              "3345              Y             GB                  IN         93.60   \n",
              "3346              Y             GB                  IN         90.40   \n",
              "\n",
              "      gross_weight  shipment_charges shipment_mode shipping_company selected  \\\n",
              "0            355.0              0.75           Air              SC3        Y   \n",
              "1            105.0              0.90         Ocean              SC1        Y   \n",
              "2            100.0              0.75           Air              SC3        Y   \n",
              "3           1071.0              1.05           Air              SC2        Y   \n",
              "4           2007.0              0.75           Air              SC3        Y   \n",
              "...            ...               ...           ...              ...      ...   \n",
              "3342         105.0              0.90         Ocean              SC1        Y   \n",
              "3343         405.0              0.75           Air              SC3        Y   \n",
              "3344        1107.0              0.90         Ocean              SC1        Y   \n",
              "3345        1005.0              1.05           Air              SC2        Y   \n",
              "3346         111.0              0.75           Air              SC3        Y   \n",
              "\n",
              "      shipping_time  \n",
              "0           5.00741  \n",
              "1          21.41215  \n",
              "2           5.33692  \n",
              "3           5.14792  \n",
              "4           5.03067  \n",
              "...             ...  \n",
              "3342       30.29039  \n",
              "3343        5.08773  \n",
              "3344       19.53113  \n",
              "3345        5.27639  \n",
              "3346        5.25278  \n",
              "\n",
              "[3347 rows x 14 columns]"
            ],
            "text/html": [
              "\n",
              "  <div id=\"df-c2a10470-0e72-4938-a019-289d7ea4a75b\">\n",
              "    <div class=\"colab-df-container\">\n",
              "      <div>\n",
              "<style scoped>\n",
              "    .dataframe tbody tr th:only-of-type {\n",
              "        vertical-align: middle;\n",
              "    }\n",
              "\n",
              "    .dataframe tbody tr th {\n",
              "        vertical-align: top;\n",
              "    }\n",
              "\n",
              "    .dataframe thead th {\n",
              "        text-align: right;\n",
              "    }\n",
              "</style>\n",
              "<table border=\"1\" class=\"dataframe\">\n",
              "  <thead>\n",
              "    <tr style=\"text-align: right;\">\n",
              "      <th></th>\n",
              "      <th>Unnamed: 0</th>\n",
              "      <th>shipment_id</th>\n",
              "      <th>send_timestamp</th>\n",
              "      <th>pick_up_point</th>\n",
              "      <th>drop_off_point</th>\n",
              "      <th>source_country</th>\n",
              "      <th>destination_country</th>\n",
              "      <th>freight_cost</th>\n",
              "      <th>gross_weight</th>\n",
              "      <th>shipment_charges</th>\n",
              "      <th>shipment_mode</th>\n",
              "      <th>shipping_company</th>\n",
              "      <th>selected</th>\n",
              "      <th>shipping_time</th>\n",
              "    </tr>\n",
              "  </thead>\n",
              "  <tbody>\n",
              "    <tr>\n",
              "      <th>0</th>\n",
              "      <td>0</td>\n",
              "      <td>S000720</td>\n",
              "      <td>2019-06-08 07:17:51</td>\n",
              "      <td>A</td>\n",
              "      <td>Y</td>\n",
              "      <td>GB</td>\n",
              "      <td>IN</td>\n",
              "      <td>88.61</td>\n",
              "      <td>355.0</td>\n",
              "      <td>0.75</td>\n",
              "      <td>Air</td>\n",
              "      <td>SC3</td>\n",
              "      <td>Y</td>\n",
              "      <td>5.00741</td>\n",
              "    </tr>\n",
              "    <tr>\n",
              "      <th>1</th>\n",
              "      <td>1</td>\n",
              "      <td>S000725</td>\n",
              "      <td>2019-07-12 15:23:21</td>\n",
              "      <td>A</td>\n",
              "      <td>Y</td>\n",
              "      <td>GB</td>\n",
              "      <td>IN</td>\n",
              "      <td>85.65</td>\n",
              "      <td>105.0</td>\n",
              "      <td>0.90</td>\n",
              "      <td>Ocean</td>\n",
              "      <td>SC1</td>\n",
              "      <td>Y</td>\n",
              "      <td>21.41215</td>\n",
              "    </tr>\n",
              "    <tr>\n",
              "      <th>2</th>\n",
              "      <td>2</td>\n",
              "      <td>S000736</td>\n",
              "      <td>2019-10-04 14:23:29</td>\n",
              "      <td>A</td>\n",
              "      <td>Y</td>\n",
              "      <td>GB</td>\n",
              "      <td>IN</td>\n",
              "      <td>86.22</td>\n",
              "      <td>100.0</td>\n",
              "      <td>0.75</td>\n",
              "      <td>Air</td>\n",
              "      <td>SC3</td>\n",
              "      <td>Y</td>\n",
              "      <td>5.33692</td>\n",
              "    </tr>\n",
              "    <tr>\n",
              "      <th>3</th>\n",
              "      <td>3</td>\n",
              "      <td>S000738</td>\n",
              "      <td>2020-01-07 09:19:50</td>\n",
              "      <td>A</td>\n",
              "      <td>Y</td>\n",
              "      <td>GB</td>\n",
              "      <td>IN</td>\n",
              "      <td>94.43</td>\n",
              "      <td>1071.0</td>\n",
              "      <td>1.05</td>\n",
              "      <td>Air</td>\n",
              "      <td>SC2</td>\n",
              "      <td>Y</td>\n",
              "      <td>5.14792</td>\n",
              "    </tr>\n",
              "    <tr>\n",
              "      <th>4</th>\n",
              "      <td>4</td>\n",
              "      <td>S000739</td>\n",
              "      <td>2020-04-11 06:36:03</td>\n",
              "      <td>A</td>\n",
              "      <td>Y</td>\n",
              "      <td>GB</td>\n",
              "      <td>IN</td>\n",
              "      <td>94.24</td>\n",
              "      <td>2007.0</td>\n",
              "      <td>0.75</td>\n",
              "      <td>Air</td>\n",
              "      <td>SC3</td>\n",
              "      <td>Y</td>\n",
              "      <td>5.03067</td>\n",
              "    </tr>\n",
              "    <tr>\n",
              "      <th>...</th>\n",
              "      <td>...</td>\n",
              "      <td>...</td>\n",
              "      <td>...</td>\n",
              "      <td>...</td>\n",
              "      <td>...</td>\n",
              "      <td>...</td>\n",
              "      <td>...</td>\n",
              "      <td>...</td>\n",
              "      <td>...</td>\n",
              "      <td>...</td>\n",
              "      <td>...</td>\n",
              "      <td>...</td>\n",
              "      <td>...</td>\n",
              "      <td>...</td>\n",
              "    </tr>\n",
              "    <tr>\n",
              "      <th>3342</th>\n",
              "      <td>3342</td>\n",
              "      <td>S770724</td>\n",
              "      <td>2019-07-11 12:41:49</td>\n",
              "      <td>A</td>\n",
              "      <td>Y</td>\n",
              "      <td>GB</td>\n",
              "      <td>IN</td>\n",
              "      <td>85.60</td>\n",
              "      <td>105.0</td>\n",
              "      <td>0.90</td>\n",
              "      <td>Ocean</td>\n",
              "      <td>SC1</td>\n",
              "      <td>Y</td>\n",
              "      <td>30.29039</td>\n",
              "    </tr>\n",
              "    <tr>\n",
              "      <th>3343</th>\n",
              "      <td>3343</td>\n",
              "      <td>S770735</td>\n",
              "      <td>2019-09-24 11:55:44</td>\n",
              "      <td>A</td>\n",
              "      <td>Y</td>\n",
              "      <td>GB</td>\n",
              "      <td>IN</td>\n",
              "      <td>88.53</td>\n",
              "      <td>405.0</td>\n",
              "      <td>0.75</td>\n",
              "      <td>Air</td>\n",
              "      <td>SC3</td>\n",
              "      <td>Y</td>\n",
              "      <td>5.08773</td>\n",
              "    </tr>\n",
              "    <tr>\n",
              "      <th>3344</th>\n",
              "      <td>3344</td>\n",
              "      <td>S771736</td>\n",
              "      <td>2019-11-08 10:52:29</td>\n",
              "      <td>A</td>\n",
              "      <td>Y</td>\n",
              "      <td>GB</td>\n",
              "      <td>IN</td>\n",
              "      <td>90.85</td>\n",
              "      <td>1107.0</td>\n",
              "      <td>0.90</td>\n",
              "      <td>Ocean</td>\n",
              "      <td>SC1</td>\n",
              "      <td>Y</td>\n",
              "      <td>19.53113</td>\n",
              "    </tr>\n",
              "    <tr>\n",
              "      <th>3345</th>\n",
              "      <td>3345</td>\n",
              "      <td>S771738</td>\n",
              "      <td>2020-03-12 12:54:27</td>\n",
              "      <td>A</td>\n",
              "      <td>Y</td>\n",
              "      <td>GB</td>\n",
              "      <td>IN</td>\n",
              "      <td>93.60</td>\n",
              "      <td>1005.0</td>\n",
              "      <td>1.05</td>\n",
              "      <td>Air</td>\n",
              "      <td>SC2</td>\n",
              "      <td>Y</td>\n",
              "      <td>5.27639</td>\n",
              "    </tr>\n",
              "    <tr>\n",
              "      <th>3346</th>\n",
              "      <td>3346</td>\n",
              "      <td>S772707</td>\n",
              "      <td>2019-03-20 19:27:51</td>\n",
              "      <td>A</td>\n",
              "      <td>Y</td>\n",
              "      <td>GB</td>\n",
              "      <td>IN</td>\n",
              "      <td>90.40</td>\n",
              "      <td>111.0</td>\n",
              "      <td>0.75</td>\n",
              "      <td>Air</td>\n",
              "      <td>SC3</td>\n",
              "      <td>Y</td>\n",
              "      <td>5.25278</td>\n",
              "    </tr>\n",
              "  </tbody>\n",
              "</table>\n",
              "<p>3347 rows × 14 columns</p>\n",
              "</div>\n",
              "      <button class=\"colab-df-convert\" onclick=\"convertToInteractive('df-c2a10470-0e72-4938-a019-289d7ea4a75b')\"\n",
              "              title=\"Convert this dataframe to an interactive table.\"\n",
              "              style=\"display:none;\">\n",
              "        \n",
              "  <svg xmlns=\"http://www.w3.org/2000/svg\" height=\"24px\"viewBox=\"0 0 24 24\"\n",
              "       width=\"24px\">\n",
              "    <path d=\"M0 0h24v24H0V0z\" fill=\"none\"/>\n",
              "    <path d=\"M18.56 5.44l.94 2.06.94-2.06 2.06-.94-2.06-.94-.94-2.06-.94 2.06-2.06.94zm-11 1L8.5 8.5l.94-2.06 2.06-.94-2.06-.94L8.5 2.5l-.94 2.06-2.06.94zm10 10l.94 2.06.94-2.06 2.06-.94-2.06-.94-.94-2.06-.94 2.06-2.06.94z\"/><path d=\"M17.41 7.96l-1.37-1.37c-.4-.4-.92-.59-1.43-.59-.52 0-1.04.2-1.43.59L10.3 9.45l-7.72 7.72c-.78.78-.78 2.05 0 2.83L4 21.41c.39.39.9.59 1.41.59.51 0 1.02-.2 1.41-.59l7.78-7.78 2.81-2.81c.8-.78.8-2.07 0-2.86zM5.41 20L4 18.59l7.72-7.72 1.47 1.35L5.41 20z\"/>\n",
              "  </svg>\n",
              "      </button>\n",
              "      \n",
              "  <style>\n",
              "    .colab-df-container {\n",
              "      display:flex;\n",
              "      flex-wrap:wrap;\n",
              "      gap: 12px;\n",
              "    }\n",
              "\n",
              "    .colab-df-convert {\n",
              "      background-color: #E8F0FE;\n",
              "      border: none;\n",
              "      border-radius: 50%;\n",
              "      cursor: pointer;\n",
              "      display: none;\n",
              "      fill: #1967D2;\n",
              "      height: 32px;\n",
              "      padding: 0 0 0 0;\n",
              "      width: 32px;\n",
              "    }\n",
              "\n",
              "    .colab-df-convert:hover {\n",
              "      background-color: #E2EBFA;\n",
              "      box-shadow: 0px 1px 2px rgba(60, 64, 67, 0.3), 0px 1px 3px 1px rgba(60, 64, 67, 0.15);\n",
              "      fill: #174EA6;\n",
              "    }\n",
              "\n",
              "    [theme=dark] .colab-df-convert {\n",
              "      background-color: #3B4455;\n",
              "      fill: #D2E3FC;\n",
              "    }\n",
              "\n",
              "    [theme=dark] .colab-df-convert:hover {\n",
              "      background-color: #434B5C;\n",
              "      box-shadow: 0px 1px 3px 1px rgba(0, 0, 0, 0.15);\n",
              "      filter: drop-shadow(0px 1px 2px rgba(0, 0, 0, 0.3));\n",
              "      fill: #FFFFFF;\n",
              "    }\n",
              "  </style>\n",
              "\n",
              "      <script>\n",
              "        const buttonEl =\n",
              "          document.querySelector('#df-c2a10470-0e72-4938-a019-289d7ea4a75b button.colab-df-convert');\n",
              "        buttonEl.style.display =\n",
              "          google.colab.kernel.accessAllowed ? 'block' : 'none';\n",
              "\n",
              "        async function convertToInteractive(key) {\n",
              "          const element = document.querySelector('#df-c2a10470-0e72-4938-a019-289d7ea4a75b');\n",
              "          const dataTable =\n",
              "            await google.colab.kernel.invokeFunction('convertToInteractive',\n",
              "                                                     [key], {});\n",
              "          if (!dataTable) return;\n",
              "\n",
              "          const docLinkHtml = 'Like what you see? Visit the ' +\n",
              "            '<a target=\"_blank\" href=https://colab.research.google.com/notebooks/data_table.ipynb>data table notebook</a>'\n",
              "            + ' to learn more about interactive tables.';\n",
              "          element.innerHTML = '';\n",
              "          dataTable['output_type'] = 'display_data';\n",
              "          await google.colab.output.renderOutput(dataTable, element);\n",
              "          const docLink = document.createElement('div');\n",
              "          docLink.innerHTML = docLinkHtml;\n",
              "          element.appendChild(docLink);\n",
              "        }\n",
              "      </script>\n",
              "    </div>\n",
              "  </div>\n",
              "  "
            ]
          },
          "metadata": {},
          "execution_count": 3
        }
      ],
      "source": [
        " shipment=pd.read_csv('/content/drive/MyDrive/Mini Project/shipping_data.csv')\n",
        " shipment.head(3347)"
      ]
    },
    {
      "cell_type": "markdown",
      "metadata": {
        "id": "-zI3ctNOoxg3"
      },
      "source": [
        "NUMERICAL COLUMNS"
      ]
    },
    {
      "cell_type": "code",
      "execution_count": null,
      "metadata": {
        "colab": {
          "base_uri": "https://localhost:8080/",
          "height": 300
        },
        "id": "XbDp6k4Uo4N4",
        "outputId": "26eaca8a-62b5-421b-80ec-257a42c88aaf"
      },
      "outputs": [
        {
          "output_type": "execute_result",
          "data": {
            "text/plain": [
              "        Unnamed: 0  freight_cost  gross_weight  shipment_charges  \\\n",
              "count  5114.000000   5114.000000   5114.000000       5114.000000   \n",
              "mean   2556.500000     91.200923    954.074099          0.871732   \n",
              "std    1476.428969      5.154340   1266.102859          0.127972   \n",
              "min       0.000000     82.885600      5.000000          0.562500   \n",
              "25%    1278.250000     87.750000    225.000000          0.750000   \n",
              "50%    2556.500000     90.750000    505.000000          0.900000   \n",
              "75%    3834.750000     92.837500   1100.000000          0.900000   \n",
              "max    5113.000000    115.620000  10000.000000          1.125000   \n",
              "\n",
              "       shipping_time  \n",
              "count    5114.000000  \n",
              "mean       12.641822  \n",
              "std        10.273164  \n",
              "min         5.000000  \n",
              "25%         5.199910  \n",
              "50%         5.405150  \n",
              "75%        19.644270  \n",
              "max        57.249650  "
            ],
            "text/html": [
              "\n",
              "  <div id=\"df-aa48e32e-4cd3-4548-94ed-3cdaf2385093\">\n",
              "    <div class=\"colab-df-container\">\n",
              "      <div>\n",
              "<style scoped>\n",
              "    .dataframe tbody tr th:only-of-type {\n",
              "        vertical-align: middle;\n",
              "    }\n",
              "\n",
              "    .dataframe tbody tr th {\n",
              "        vertical-align: top;\n",
              "    }\n",
              "\n",
              "    .dataframe thead th {\n",
              "        text-align: right;\n",
              "    }\n",
              "</style>\n",
              "<table border=\"1\" class=\"dataframe\">\n",
              "  <thead>\n",
              "    <tr style=\"text-align: right;\">\n",
              "      <th></th>\n",
              "      <th>Unnamed: 0</th>\n",
              "      <th>freight_cost</th>\n",
              "      <th>gross_weight</th>\n",
              "      <th>shipment_charges</th>\n",
              "      <th>shipping_time</th>\n",
              "    </tr>\n",
              "  </thead>\n",
              "  <tbody>\n",
              "    <tr>\n",
              "      <th>count</th>\n",
              "      <td>5114.000000</td>\n",
              "      <td>5114.000000</td>\n",
              "      <td>5114.000000</td>\n",
              "      <td>5114.000000</td>\n",
              "      <td>5114.000000</td>\n",
              "    </tr>\n",
              "    <tr>\n",
              "      <th>mean</th>\n",
              "      <td>2556.500000</td>\n",
              "      <td>91.200923</td>\n",
              "      <td>954.074099</td>\n",
              "      <td>0.871732</td>\n",
              "      <td>12.641822</td>\n",
              "    </tr>\n",
              "    <tr>\n",
              "      <th>std</th>\n",
              "      <td>1476.428969</td>\n",
              "      <td>5.154340</td>\n",
              "      <td>1266.102859</td>\n",
              "      <td>0.127972</td>\n",
              "      <td>10.273164</td>\n",
              "    </tr>\n",
              "    <tr>\n",
              "      <th>min</th>\n",
              "      <td>0.000000</td>\n",
              "      <td>82.885600</td>\n",
              "      <td>5.000000</td>\n",
              "      <td>0.562500</td>\n",
              "      <td>5.000000</td>\n",
              "    </tr>\n",
              "    <tr>\n",
              "      <th>25%</th>\n",
              "      <td>1278.250000</td>\n",
              "      <td>87.750000</td>\n",
              "      <td>225.000000</td>\n",
              "      <td>0.750000</td>\n",
              "      <td>5.199910</td>\n",
              "    </tr>\n",
              "    <tr>\n",
              "      <th>50%</th>\n",
              "      <td>2556.500000</td>\n",
              "      <td>90.750000</td>\n",
              "      <td>505.000000</td>\n",
              "      <td>0.900000</td>\n",
              "      <td>5.405150</td>\n",
              "    </tr>\n",
              "    <tr>\n",
              "      <th>75%</th>\n",
              "      <td>3834.750000</td>\n",
              "      <td>92.837500</td>\n",
              "      <td>1100.000000</td>\n",
              "      <td>0.900000</td>\n",
              "      <td>19.644270</td>\n",
              "    </tr>\n",
              "    <tr>\n",
              "      <th>max</th>\n",
              "      <td>5113.000000</td>\n",
              "      <td>115.620000</td>\n",
              "      <td>10000.000000</td>\n",
              "      <td>1.125000</td>\n",
              "      <td>57.249650</td>\n",
              "    </tr>\n",
              "  </tbody>\n",
              "</table>\n",
              "</div>\n",
              "      <button class=\"colab-df-convert\" onclick=\"convertToInteractive('df-aa48e32e-4cd3-4548-94ed-3cdaf2385093')\"\n",
              "              title=\"Convert this dataframe to an interactive table.\"\n",
              "              style=\"display:none;\">\n",
              "        \n",
              "  <svg xmlns=\"http://www.w3.org/2000/svg\" height=\"24px\"viewBox=\"0 0 24 24\"\n",
              "       width=\"24px\">\n",
              "    <path d=\"M0 0h24v24H0V0z\" fill=\"none\"/>\n",
              "    <path d=\"M18.56 5.44l.94 2.06.94-2.06 2.06-.94-2.06-.94-.94-2.06-.94 2.06-2.06.94zm-11 1L8.5 8.5l.94-2.06 2.06-.94-2.06-.94L8.5 2.5l-.94 2.06-2.06.94zm10 10l.94 2.06.94-2.06 2.06-.94-2.06-.94-.94-2.06-.94 2.06-2.06.94z\"/><path d=\"M17.41 7.96l-1.37-1.37c-.4-.4-.92-.59-1.43-.59-.52 0-1.04.2-1.43.59L10.3 9.45l-7.72 7.72c-.78.78-.78 2.05 0 2.83L4 21.41c.39.39.9.59 1.41.59.51 0 1.02-.2 1.41-.59l7.78-7.78 2.81-2.81c.8-.78.8-2.07 0-2.86zM5.41 20L4 18.59l7.72-7.72 1.47 1.35L5.41 20z\"/>\n",
              "  </svg>\n",
              "      </button>\n",
              "      \n",
              "  <style>\n",
              "    .colab-df-container {\n",
              "      display:flex;\n",
              "      flex-wrap:wrap;\n",
              "      gap: 12px;\n",
              "    }\n",
              "\n",
              "    .colab-df-convert {\n",
              "      background-color: #E8F0FE;\n",
              "      border: none;\n",
              "      border-radius: 50%;\n",
              "      cursor: pointer;\n",
              "      display: none;\n",
              "      fill: #1967D2;\n",
              "      height: 32px;\n",
              "      padding: 0 0 0 0;\n",
              "      width: 32px;\n",
              "    }\n",
              "\n",
              "    .colab-df-convert:hover {\n",
              "      background-color: #E2EBFA;\n",
              "      box-shadow: 0px 1px 2px rgba(60, 64, 67, 0.3), 0px 1px 3px 1px rgba(60, 64, 67, 0.15);\n",
              "      fill: #174EA6;\n",
              "    }\n",
              "\n",
              "    [theme=dark] .colab-df-convert {\n",
              "      background-color: #3B4455;\n",
              "      fill: #D2E3FC;\n",
              "    }\n",
              "\n",
              "    [theme=dark] .colab-df-convert:hover {\n",
              "      background-color: #434B5C;\n",
              "      box-shadow: 0px 1px 3px 1px rgba(0, 0, 0, 0.15);\n",
              "      filter: drop-shadow(0px 1px 2px rgba(0, 0, 0, 0.3));\n",
              "      fill: #FFFFFF;\n",
              "    }\n",
              "  </style>\n",
              "\n",
              "      <script>\n",
              "        const buttonEl =\n",
              "          document.querySelector('#df-aa48e32e-4cd3-4548-94ed-3cdaf2385093 button.colab-df-convert');\n",
              "        buttonEl.style.display =\n",
              "          google.colab.kernel.accessAllowed ? 'block' : 'none';\n",
              "\n",
              "        async function convertToInteractive(key) {\n",
              "          const element = document.querySelector('#df-aa48e32e-4cd3-4548-94ed-3cdaf2385093');\n",
              "          const dataTable =\n",
              "            await google.colab.kernel.invokeFunction('convertToInteractive',\n",
              "                                                     [key], {});\n",
              "          if (!dataTable) return;\n",
              "\n",
              "          const docLinkHtml = 'Like what you see? Visit the ' +\n",
              "            '<a target=\"_blank\" href=https://colab.research.google.com/notebooks/data_table.ipynb>data table notebook</a>'\n",
              "            + ' to learn more about interactive tables.';\n",
              "          element.innerHTML = '';\n",
              "          dataTable['output_type'] = 'display_data';\n",
              "          await google.colab.output.renderOutput(dataTable, element);\n",
              "          const docLink = document.createElement('div');\n",
              "          docLink.innerHTML = docLinkHtml;\n",
              "          element.appendChild(docLink);\n",
              "        }\n",
              "      </script>\n",
              "    </div>\n",
              "  </div>\n",
              "  "
            ]
          },
          "metadata": {},
          "execution_count": 4
        }
      ],
      "source": [
        "shipment.describe()"
      ]
    },
    {
      "cell_type": "markdown",
      "metadata": {
        "id": "LWOr7k5KraVf"
      },
      "source": [
        "Data Cleaning\n",
        "\n",
        "---\n",
        "\n",
        "\n",
        "• Treating missing values\n",
        "• Treating faulty values"
      ]
    },
    {
      "cell_type": "markdown",
      "metadata": {
        "id": "P376zAEWsJwT"
      },
      "source": [
        "Let’s find all the columns having missing values"
      ]
    },
    {
      "cell_type": "code",
      "execution_count": null,
      "metadata": {
        "colab": {
          "base_uri": "https://localhost:8080/"
        },
        "id": "Kd67W3FysKe1",
        "outputId": "6875b976-b1e8-4d19-e0a9-4934fe0a8d0c"
      },
      "outputs": [
        {
          "output_type": "execute_result",
          "data": {
            "text/plain": [
              "Unnamed: 0             0\n",
              "shipment_id            0\n",
              "send_timestamp         0\n",
              "pick_up_point          0\n",
              "drop_off_point         0\n",
              "source_country         0\n",
              "destination_country    0\n",
              "freight_cost           0\n",
              "gross_weight           0\n",
              "shipment_charges       0\n",
              "shipment_mode          0\n",
              "shipping_company       0\n",
              "selected               0\n",
              "shipping_time          0\n",
              "dtype: int64"
            ]
          },
          "metadata": {},
          "execution_count": 5
        }
      ],
      "source": [
        "shipment.isna().sum()\n"
      ]
    },
    {
      "cell_type": "markdown",
      "metadata": {
        "id": "yI5bTZwkuTCJ"
      },
      "source": [
        "There are no missing values in our dataset. Hence we can proceed further with preprocessing."
      ]
    },
    {
      "cell_type": "markdown",
      "metadata": {
        "id": "u1S98gANubkv"
      },
      "source": [
        "GARBAGE IN GARBAGE OUT"
      ]
    },
    {
      "cell_type": "markdown",
      "metadata": {
        "id": "lhnRTT0QvPGJ"
      },
      "source": [
        "Dropping the unwanted columns which are of no use for our prediction"
      ]
    },
    {
      "cell_type": "code",
      "execution_count": null,
      "metadata": {
        "colab": {
          "base_uri": "https://localhost:8080/",
          "height": 206
        },
        "id": "KDD_ZRlYvZOj",
        "outputId": "e55eefe9-6e6b-4bb8-a8d0-5c6fbda858a1"
      },
      "outputs": [
        {
          "output_type": "execute_result",
          "data": {
            "text/plain": [
              "  drop_off_point  freight_cost  gross_weight  shipment_charges shipment_mode  \\\n",
              "0              Y         88.61         355.0              0.75           Air   \n",
              "1              Y         85.65         105.0              0.90         Ocean   \n",
              "2              Y         86.22         100.0              0.75           Air   \n",
              "3              Y         94.43        1071.0              1.05           Air   \n",
              "4              Y         94.24        2007.0              0.75           Air   \n",
              "\n",
              "  shipping_company  shipping_time  \n",
              "0              SC3        5.00741  \n",
              "1              SC1       21.41215  \n",
              "2              SC3        5.33692  \n",
              "3              SC2        5.14792  \n",
              "4              SC3        5.03067  "
            ],
            "text/html": [
              "\n",
              "  <div id=\"df-2054cd0a-e5e9-407f-b2c2-106d7da2d2b7\">\n",
              "    <div class=\"colab-df-container\">\n",
              "      <div>\n",
              "<style scoped>\n",
              "    .dataframe tbody tr th:only-of-type {\n",
              "        vertical-align: middle;\n",
              "    }\n",
              "\n",
              "    .dataframe tbody tr th {\n",
              "        vertical-align: top;\n",
              "    }\n",
              "\n",
              "    .dataframe thead th {\n",
              "        text-align: right;\n",
              "    }\n",
              "</style>\n",
              "<table border=\"1\" class=\"dataframe\">\n",
              "  <thead>\n",
              "    <tr style=\"text-align: right;\">\n",
              "      <th></th>\n",
              "      <th>drop_off_point</th>\n",
              "      <th>freight_cost</th>\n",
              "      <th>gross_weight</th>\n",
              "      <th>shipment_charges</th>\n",
              "      <th>shipment_mode</th>\n",
              "      <th>shipping_company</th>\n",
              "      <th>shipping_time</th>\n",
              "    </tr>\n",
              "  </thead>\n",
              "  <tbody>\n",
              "    <tr>\n",
              "      <th>0</th>\n",
              "      <td>Y</td>\n",
              "      <td>88.61</td>\n",
              "      <td>355.0</td>\n",
              "      <td>0.75</td>\n",
              "      <td>Air</td>\n",
              "      <td>SC3</td>\n",
              "      <td>5.00741</td>\n",
              "    </tr>\n",
              "    <tr>\n",
              "      <th>1</th>\n",
              "      <td>Y</td>\n",
              "      <td>85.65</td>\n",
              "      <td>105.0</td>\n",
              "      <td>0.90</td>\n",
              "      <td>Ocean</td>\n",
              "      <td>SC1</td>\n",
              "      <td>21.41215</td>\n",
              "    </tr>\n",
              "    <tr>\n",
              "      <th>2</th>\n",
              "      <td>Y</td>\n",
              "      <td>86.22</td>\n",
              "      <td>100.0</td>\n",
              "      <td>0.75</td>\n",
              "      <td>Air</td>\n",
              "      <td>SC3</td>\n",
              "      <td>5.33692</td>\n",
              "    </tr>\n",
              "    <tr>\n",
              "      <th>3</th>\n",
              "      <td>Y</td>\n",
              "      <td>94.43</td>\n",
              "      <td>1071.0</td>\n",
              "      <td>1.05</td>\n",
              "      <td>Air</td>\n",
              "      <td>SC2</td>\n",
              "      <td>5.14792</td>\n",
              "    </tr>\n",
              "    <tr>\n",
              "      <th>4</th>\n",
              "      <td>Y</td>\n",
              "      <td>94.24</td>\n",
              "      <td>2007.0</td>\n",
              "      <td>0.75</td>\n",
              "      <td>Air</td>\n",
              "      <td>SC3</td>\n",
              "      <td>5.03067</td>\n",
              "    </tr>\n",
              "  </tbody>\n",
              "</table>\n",
              "</div>\n",
              "      <button class=\"colab-df-convert\" onclick=\"convertToInteractive('df-2054cd0a-e5e9-407f-b2c2-106d7da2d2b7')\"\n",
              "              title=\"Convert this dataframe to an interactive table.\"\n",
              "              style=\"display:none;\">\n",
              "        \n",
              "  <svg xmlns=\"http://www.w3.org/2000/svg\" height=\"24px\"viewBox=\"0 0 24 24\"\n",
              "       width=\"24px\">\n",
              "    <path d=\"M0 0h24v24H0V0z\" fill=\"none\"/>\n",
              "    <path d=\"M18.56 5.44l.94 2.06.94-2.06 2.06-.94-2.06-.94-.94-2.06-.94 2.06-2.06.94zm-11 1L8.5 8.5l.94-2.06 2.06-.94-2.06-.94L8.5 2.5l-.94 2.06-2.06.94zm10 10l.94 2.06.94-2.06 2.06-.94-2.06-.94-.94-2.06-.94 2.06-2.06.94z\"/><path d=\"M17.41 7.96l-1.37-1.37c-.4-.4-.92-.59-1.43-.59-.52 0-1.04.2-1.43.59L10.3 9.45l-7.72 7.72c-.78.78-.78 2.05 0 2.83L4 21.41c.39.39.9.59 1.41.59.51 0 1.02-.2 1.41-.59l7.78-7.78 2.81-2.81c.8-.78.8-2.07 0-2.86zM5.41 20L4 18.59l7.72-7.72 1.47 1.35L5.41 20z\"/>\n",
              "  </svg>\n",
              "      </button>\n",
              "      \n",
              "  <style>\n",
              "    .colab-df-container {\n",
              "      display:flex;\n",
              "      flex-wrap:wrap;\n",
              "      gap: 12px;\n",
              "    }\n",
              "\n",
              "    .colab-df-convert {\n",
              "      background-color: #E8F0FE;\n",
              "      border: none;\n",
              "      border-radius: 50%;\n",
              "      cursor: pointer;\n",
              "      display: none;\n",
              "      fill: #1967D2;\n",
              "      height: 32px;\n",
              "      padding: 0 0 0 0;\n",
              "      width: 32px;\n",
              "    }\n",
              "\n",
              "    .colab-df-convert:hover {\n",
              "      background-color: #E2EBFA;\n",
              "      box-shadow: 0px 1px 2px rgba(60, 64, 67, 0.3), 0px 1px 3px 1px rgba(60, 64, 67, 0.15);\n",
              "      fill: #174EA6;\n",
              "    }\n",
              "\n",
              "    [theme=dark] .colab-df-convert {\n",
              "      background-color: #3B4455;\n",
              "      fill: #D2E3FC;\n",
              "    }\n",
              "\n",
              "    [theme=dark] .colab-df-convert:hover {\n",
              "      background-color: #434B5C;\n",
              "      box-shadow: 0px 1px 3px 1px rgba(0, 0, 0, 0.15);\n",
              "      filter: drop-shadow(0px 1px 2px rgba(0, 0, 0, 0.3));\n",
              "      fill: #FFFFFF;\n",
              "    }\n",
              "  </style>\n",
              "\n",
              "      <script>\n",
              "        const buttonEl =\n",
              "          document.querySelector('#df-2054cd0a-e5e9-407f-b2c2-106d7da2d2b7 button.colab-df-convert');\n",
              "        buttonEl.style.display =\n",
              "          google.colab.kernel.accessAllowed ? 'block' : 'none';\n",
              "\n",
              "        async function convertToInteractive(key) {\n",
              "          const element = document.querySelector('#df-2054cd0a-e5e9-407f-b2c2-106d7da2d2b7');\n",
              "          const dataTable =\n",
              "            await google.colab.kernel.invokeFunction('convertToInteractive',\n",
              "                                                     [key], {});\n",
              "          if (!dataTable) return;\n",
              "\n",
              "          const docLinkHtml = 'Like what you see? Visit the ' +\n",
              "            '<a target=\"_blank\" href=https://colab.research.google.com/notebooks/data_table.ipynb>data table notebook</a>'\n",
              "            + ' to learn more about interactive tables.';\n",
              "          element.innerHTML = '';\n",
              "          dataTable['output_type'] = 'display_data';\n",
              "          await google.colab.output.renderOutput(dataTable, element);\n",
              "          const docLink = document.createElement('div');\n",
              "          docLink.innerHTML = docLinkHtml;\n",
              "          element.appendChild(docLink);\n",
              "        }\n",
              "      </script>\n",
              "    </div>\n",
              "  </div>\n",
              "  "
            ]
          },
          "metadata": {},
          "execution_count": 6
        }
      ],
      "source": [
        "shipment1=shipment.drop(['Unnamed: 0','shipment_id','send_timestamp','pick_up_point','source_country','destination_country','selected'], axis = 1)\n",
        "shipment1.head()"
      ]
    },
    {
      "cell_type": "markdown",
      "metadata": {
        "id": "Ky-0HtKN5oN5"
      },
      "source": [
        "We have removed unwanted columns from our dataset. We need to convert drop_off_point,shipment_mode,shipping_company into numeric format before starting Exploratory Data Analysis (EDA)."
      ]
    },
    {
      "cell_type": "code",
      "execution_count": null,
      "metadata": {
        "colab": {
          "base_uri": "https://localhost:8080/"
        },
        "id": "g2q2u8vtNFom",
        "outputId": "6642a124-946f-434f-a182-afec87009722"
      },
      "outputs": [
        {
          "output_type": "execute_result",
          "data": {
            "text/plain": [
              "Y    4817\n",
              "X     297\n",
              "Name: drop_off_point, dtype: int64"
            ]
          },
          "metadata": {},
          "execution_count": 7
        }
      ],
      "source": [
        "shipment1[\"drop_off_point\"].value_counts()"
      ]
    },
    {
      "cell_type": "code",
      "execution_count": null,
      "metadata": {
        "colab": {
          "base_uri": "https://localhost:8080/"
        },
        "id": "eGVm8664Nfgq",
        "outputId": "ebfab395-3162-42d4-9bdf-d6a692b0195c"
      },
      "outputs": [
        {
          "output_type": "execute_result",
          "data": {
            "text/plain": [
              "Air      2664\n",
              "Ocean    2450\n",
              "Name: shipment_mode, dtype: int64"
            ]
          },
          "metadata": {},
          "execution_count": 8
        }
      ],
      "source": [
        "shipment1[\"shipment_mode\"].value_counts()"
      ]
    },
    {
      "cell_type": "code",
      "execution_count": null,
      "metadata": {
        "colab": {
          "base_uri": "https://localhost:8080/"
        },
        "id": "vBeEtS75NuUb",
        "outputId": "f4d0747c-19c4-4487-9f45-40548b8364ce"
      },
      "outputs": [
        {
          "output_type": "execute_result",
          "data": {
            "text/plain": [
              "SC1    2247\n",
              "SC3    1656\n",
              "SC2    1211\n",
              "Name: shipping_company, dtype: int64"
            ]
          },
          "metadata": {},
          "execution_count": 9
        }
      ],
      "source": [
        "shipment1[\"shipping_company\"].value_counts()"
      ]
    },
    {
      "cell_type": "code",
      "execution_count": null,
      "metadata": {
        "colab": {
          "base_uri": "https://localhost:8080/",
          "height": 206
        },
        "id": "PE61TLSjr7sf",
        "outputId": "e6c6dcc1-6e00-49c6-8e8b-9144358202d8"
      },
      "outputs": [
        {
          "output_type": "execute_result",
          "data": {
            "text/plain": [
              "   drop_off_point  freight_cost  gross_weight  shipment_charges  \\\n",
              "0               1         88.61         355.0              0.75   \n",
              "1               1         85.65         105.0              0.90   \n",
              "2               1         86.22         100.0              0.75   \n",
              "3               1         94.43        1071.0              1.05   \n",
              "4               1         94.24        2007.0              0.75   \n",
              "\n",
              "   shipment_mode  shipping_company  shipping_time  \n",
              "0              0                 2        5.00741  \n",
              "1              1                 0       21.41215  \n",
              "2              0                 2        5.33692  \n",
              "3              0                 1        5.14792  \n",
              "4              0                 2        5.03067  "
            ],
            "text/html": [
              "\n",
              "  <div id=\"df-7a25872d-2843-44de-ae5d-3d3c557930be\">\n",
              "    <div class=\"colab-df-container\">\n",
              "      <div>\n",
              "<style scoped>\n",
              "    .dataframe tbody tr th:only-of-type {\n",
              "        vertical-align: middle;\n",
              "    }\n",
              "\n",
              "    .dataframe tbody tr th {\n",
              "        vertical-align: top;\n",
              "    }\n",
              "\n",
              "    .dataframe thead th {\n",
              "        text-align: right;\n",
              "    }\n",
              "</style>\n",
              "<table border=\"1\" class=\"dataframe\">\n",
              "  <thead>\n",
              "    <tr style=\"text-align: right;\">\n",
              "      <th></th>\n",
              "      <th>drop_off_point</th>\n",
              "      <th>freight_cost</th>\n",
              "      <th>gross_weight</th>\n",
              "      <th>shipment_charges</th>\n",
              "      <th>shipment_mode</th>\n",
              "      <th>shipping_company</th>\n",
              "      <th>shipping_time</th>\n",
              "    </tr>\n",
              "  </thead>\n",
              "  <tbody>\n",
              "    <tr>\n",
              "      <th>0</th>\n",
              "      <td>1</td>\n",
              "      <td>88.61</td>\n",
              "      <td>355.0</td>\n",
              "      <td>0.75</td>\n",
              "      <td>0</td>\n",
              "      <td>2</td>\n",
              "      <td>5.00741</td>\n",
              "    </tr>\n",
              "    <tr>\n",
              "      <th>1</th>\n",
              "      <td>1</td>\n",
              "      <td>85.65</td>\n",
              "      <td>105.0</td>\n",
              "      <td>0.90</td>\n",
              "      <td>1</td>\n",
              "      <td>0</td>\n",
              "      <td>21.41215</td>\n",
              "    </tr>\n",
              "    <tr>\n",
              "      <th>2</th>\n",
              "      <td>1</td>\n",
              "      <td>86.22</td>\n",
              "      <td>100.0</td>\n",
              "      <td>0.75</td>\n",
              "      <td>0</td>\n",
              "      <td>2</td>\n",
              "      <td>5.33692</td>\n",
              "    </tr>\n",
              "    <tr>\n",
              "      <th>3</th>\n",
              "      <td>1</td>\n",
              "      <td>94.43</td>\n",
              "      <td>1071.0</td>\n",
              "      <td>1.05</td>\n",
              "      <td>0</td>\n",
              "      <td>1</td>\n",
              "      <td>5.14792</td>\n",
              "    </tr>\n",
              "    <tr>\n",
              "      <th>4</th>\n",
              "      <td>1</td>\n",
              "      <td>94.24</td>\n",
              "      <td>2007.0</td>\n",
              "      <td>0.75</td>\n",
              "      <td>0</td>\n",
              "      <td>2</td>\n",
              "      <td>5.03067</td>\n",
              "    </tr>\n",
              "  </tbody>\n",
              "</table>\n",
              "</div>\n",
              "      <button class=\"colab-df-convert\" onclick=\"convertToInteractive('df-7a25872d-2843-44de-ae5d-3d3c557930be')\"\n",
              "              title=\"Convert this dataframe to an interactive table.\"\n",
              "              style=\"display:none;\">\n",
              "        \n",
              "  <svg xmlns=\"http://www.w3.org/2000/svg\" height=\"24px\"viewBox=\"0 0 24 24\"\n",
              "       width=\"24px\">\n",
              "    <path d=\"M0 0h24v24H0V0z\" fill=\"none\"/>\n",
              "    <path d=\"M18.56 5.44l.94 2.06.94-2.06 2.06-.94-2.06-.94-.94-2.06-.94 2.06-2.06.94zm-11 1L8.5 8.5l.94-2.06 2.06-.94-2.06-.94L8.5 2.5l-.94 2.06-2.06.94zm10 10l.94 2.06.94-2.06 2.06-.94-2.06-.94-.94-2.06-.94 2.06-2.06.94z\"/><path d=\"M17.41 7.96l-1.37-1.37c-.4-.4-.92-.59-1.43-.59-.52 0-1.04.2-1.43.59L10.3 9.45l-7.72 7.72c-.78.78-.78 2.05 0 2.83L4 21.41c.39.39.9.59 1.41.59.51 0 1.02-.2 1.41-.59l7.78-7.78 2.81-2.81c.8-.78.8-2.07 0-2.86zM5.41 20L4 18.59l7.72-7.72 1.47 1.35L5.41 20z\"/>\n",
              "  </svg>\n",
              "      </button>\n",
              "      \n",
              "  <style>\n",
              "    .colab-df-container {\n",
              "      display:flex;\n",
              "      flex-wrap:wrap;\n",
              "      gap: 12px;\n",
              "    }\n",
              "\n",
              "    .colab-df-convert {\n",
              "      background-color: #E8F0FE;\n",
              "      border: none;\n",
              "      border-radius: 50%;\n",
              "      cursor: pointer;\n",
              "      display: none;\n",
              "      fill: #1967D2;\n",
              "      height: 32px;\n",
              "      padding: 0 0 0 0;\n",
              "      width: 32px;\n",
              "    }\n",
              "\n",
              "    .colab-df-convert:hover {\n",
              "      background-color: #E2EBFA;\n",
              "      box-shadow: 0px 1px 2px rgba(60, 64, 67, 0.3), 0px 1px 3px 1px rgba(60, 64, 67, 0.15);\n",
              "      fill: #174EA6;\n",
              "    }\n",
              "\n",
              "    [theme=dark] .colab-df-convert {\n",
              "      background-color: #3B4455;\n",
              "      fill: #D2E3FC;\n",
              "    }\n",
              "\n",
              "    [theme=dark] .colab-df-convert:hover {\n",
              "      background-color: #434B5C;\n",
              "      box-shadow: 0px 1px 3px 1px rgba(0, 0, 0, 0.15);\n",
              "      filter: drop-shadow(0px 1px 2px rgba(0, 0, 0, 0.3));\n",
              "      fill: #FFFFFF;\n",
              "    }\n",
              "  </style>\n",
              "\n",
              "      <script>\n",
              "        const buttonEl =\n",
              "          document.querySelector('#df-7a25872d-2843-44de-ae5d-3d3c557930be button.colab-df-convert');\n",
              "        buttonEl.style.display =\n",
              "          google.colab.kernel.accessAllowed ? 'block' : 'none';\n",
              "\n",
              "        async function convertToInteractive(key) {\n",
              "          const element = document.querySelector('#df-7a25872d-2843-44de-ae5d-3d3c557930be');\n",
              "          const dataTable =\n",
              "            await google.colab.kernel.invokeFunction('convertToInteractive',\n",
              "                                                     [key], {});\n",
              "          if (!dataTable) return;\n",
              "\n",
              "          const docLinkHtml = 'Like what you see? Visit the ' +\n",
              "            '<a target=\"_blank\" href=https://colab.research.google.com/notebooks/data_table.ipynb>data table notebook</a>'\n",
              "            + ' to learn more about interactive tables.';\n",
              "          element.innerHTML = '';\n",
              "          dataTable['output_type'] = 'display_data';\n",
              "          await google.colab.output.renderOutput(dataTable, element);\n",
              "          const docLink = document.createElement('div');\n",
              "          docLink.innerHTML = docLinkHtml;\n",
              "          element.appendChild(docLink);\n",
              "        }\n",
              "      </script>\n",
              "    </div>\n",
              "  </div>\n",
              "  "
            ]
          },
          "metadata": {},
          "execution_count": 10
        }
      ],
      "source": [
        "cols = ['drop_off_point', 'shipment_mode', 'shipping_company']\n",
        "#\n",
        "# Encode labels of multiple columns at once\n",
        "#\n",
        "shipment1[cols] = shipment1[cols].apply(LabelEncoder().fit_transform)\n",
        "\n",
        "# Print head\n",
        "shipment1.head()"
      ]
    },
    {
      "cell_type": "code",
      "execution_count": null,
      "metadata": {
        "colab": {
          "base_uri": "https://localhost:8080/"
        },
        "id": "-fTJQojvmSAw",
        "outputId": "1c07533b-fb85-4d6a-c17b-a39ece59b159"
      },
      "outputs": [
        {
          "output_type": "execute_result",
          "data": {
            "text/plain": [
              "drop_off_point        int64\n",
              "freight_cost        float64\n",
              "gross_weight        float64\n",
              "shipment_charges    float64\n",
              "shipment_mode         int64\n",
              "shipping_company      int64\n",
              "shipping_time       float64\n",
              "dtype: object"
            ]
          },
          "metadata": {},
          "execution_count": 11
        }
      ],
      "source": [
        "shipment1.dtypes"
      ]
    },
    {
      "cell_type": "markdown",
      "metadata": {
        "id": "-o5Dn_AKQsxK"
      },
      "source": [
        "Hence we have converted categorical data into numeric data by using sklearn standard scaler. We can now proceed with Exploratory Data Analysis (EDA)"
      ]
    },
    {
      "cell_type": "code",
      "execution_count": null,
      "metadata": {
        "colab": {
          "base_uri": "https://localhost:8080/",
          "height": 297
        },
        "id": "tM0DSQI6Q3HA",
        "outputId": "80df8443-aa58-4a32-9f48-ec70f1a34be4"
      },
      "outputs": [
        {
          "output_type": "execute_result",
          "data": {
            "text/plain": [
              "<matplotlib.axes._subplots.AxesSubplot at 0x7f00a2081b10>"
            ]
          },
          "metadata": {},
          "execution_count": 12
        },
        {
          "output_type": "display_data",
          "data": {
            "text/plain": [
              "<Figure size 432x288 with 1 Axes>"
            ],
            "image/png": "[encoded data removed]"
          },
          "metadata": {
            "needs_background": "light"
          }
        }
      ],
      "source": [
        "sns.countplot(x='shipment_mode',data=shipment1)"
      ]
    },
    {
      "cell_type": "code",
      "execution_count": null,
      "metadata": {
        "colab": {
          "base_uri": "https://localhost:8080/",
          "height": 297
        },
        "id": "6Q-Pe60YUbQ3",
        "outputId": "8cb53391-8d1d-4e1a-d2da-376efcbcdf82"
      },
      "outputs": [
        {
          "output_type": "execute_result",
          "data": {
            "text/plain": [
              "<matplotlib.axes._subplots.AxesSubplot at 0x7f00a1f170d0>"
            ]
          },
          "metadata": {},
          "execution_count": 13
        },
        {
          "output_type": "display_data",
          "data": {
            "text/plain": [
              "<Figure size 432x288 with 1 Axes>"
            ],
            "image/png": "[encoded data removed]"
          },
          "metadata": {
            "needs_background": "light"
          }
        }
      ],
      "source": [
        "sns.countplot(x='shipment_charges',data=shipment1)"
      ]
    },
    {
      "cell_type": "code",
      "execution_count": null,
      "metadata": {
        "colab": {
          "base_uri": "https://localhost:8080/",
          "height": 299
        },
        "id": "UqrLA7uLUlAd",
        "outputId": "3b1716f0-6e60-4684-a567-3c9297ebbaea"
      },
      "outputs": [
        {
          "output_type": "execute_result",
          "data": {
            "text/plain": [
              "<matplotlib.axes._subplots.AxesSubplot at 0x7f00a1ac3e50>"
            ]
          },
          "metadata": {},
          "execution_count": 14
        },
        {
          "output_type": "display_data",
          "data": {
            "text/plain": [
              "<Figure size 432x288 with 1 Axes>"
            ],
            "image/png": "[encoded data removed]"
          },
          "metadata": {
            "needs_background": "light"
          }
        }
      ],
      "source": [
        "sns.countplot(x='drop_off_point',data=shipment1)"
      ]
    },
    {
      "cell_type": "code",
      "execution_count": null,
      "metadata": {
        "colab": {
          "base_uri": "https://localhost:8080/",
          "height": 297
        },
        "id": "-87cwI_uUtK8",
        "outputId": "2d0ed6f7-b22e-42a4-d494-7ec37e1ba031"
      },
      "outputs": [
        {
          "output_type": "execute_result",
          "data": {
            "text/plain": [
              "<matplotlib.axes._subplots.AxesSubplot at 0x7f00a1a29cd0>"
            ]
          },
          "metadata": {},
          "execution_count": 15
        },
        {
          "output_type": "display_data",
          "data": {
            "text/plain": [
              "<Figure size 432x288 with 1 Axes>"
            ],
            "image/png": "[encoded data removed]"
          },
          "metadata": {
            "needs_background": "light"
          }
        }
      ],
      "source": [
        "sns.countplot(x='shipping_company',data=shipment1)"
      ]
    },
    {
      "cell_type": "markdown",
      "metadata": {
        "id": "yPbuj_Cu7X6s"
      },
      "source": [
        "We have plotted box plot to check the independent variable have outliers."
      ]
    },
    {
      "cell_type": "code",
      "execution_count": null,
      "metadata": {
        "colab": {
          "base_uri": "https://localhost:8080/",
          "height": 297
        },
        "id": "zp2lygC07OXj",
        "outputId": "17dc4c40-e048-47e7-a414-2483852e98dd"
      },
      "outputs": [
        {
          "output_type": "execute_result",
          "data": {
            "text/plain": [
              "<matplotlib.axes._subplots.AxesSubplot at 0x7f00a198bad0>"
            ]
          },
          "metadata": {},
          "execution_count": 16
        },
        {
          "output_type": "display_data",
          "data": {
            "text/plain": [
              "<Figure size 432x288 with 1 Axes>"
            ],
            "image/png": "[encoded data removed]"
          },
          "metadata": {
            "needs_background": "light"
          }
        }
      ],
      "source": [
        "# Freight cost has outliers.\n",
        "sns.boxplot(data=shipment1, x='freight_cost', palette='bright')"
      ]
    },
    {
      "cell_type": "code",
      "source": [
        "d1= shipment1['freight_cost']\n",
        "q1, q3= np.percentile(d1,[25,75])\n",
        "iqr = q3 - q1\n",
        "lower_bound = q1 -(1.5 * iqr) \n",
        "upper_bound = q3 +(1.5 * iqr) \n",
        "print(\"Lower Bound Limit - \") \n",
        "print(lower_bound)\n",
        "print(\"\\nUpper Bound Limit - \")\n",
        "print(upper_bound)\n",
        "\n",
        "med = shipment1['freight_cost'].median()\n",
        "\n",
        "shipment1['freight_cost'] = np.where(shipment1['freight_cost'] > upper_bound, med, shipment1['freight_cost'])\n",
        "sns.boxplot(data=shipment1, x='freight_cost', palette='bright')\n"
      ],
      "metadata": {
        "id": "TJFdFI16_LE9",
        "colab": {
          "base_uri": "https://localhost:8080/",
          "height": 384
        },
        "outputId": "36820f36-62ca-4f85-cb6e-c99d3dc20d21"
      },
      "execution_count": null,
      "outputs": [
        {
          "output_type": "stream",
          "name": "stdout",
          "text": [
            "Lower Bound Limit - \n",
            "80.11874999999999\n",
            "\n",
            "Upper Bound Limit - \n",
            "100.46875000000001\n"
          ]
        },
        {
          "output_type": "execute_result",
          "data": {
            "text/plain": [
              "<matplotlib.axes._subplots.AxesSubplot at 0x7f00a1906b90>"
            ]
          },
          "metadata": {},
          "execution_count": 17
        },
        {
          "output_type": "display_data",
          "data": {
            "text/plain": [
              "<Figure size 432x288 with 1 Axes>"
            ],
            "image/png": "[encoded data removed]"
          },
          "metadata": {
            "needs_background": "light"
          }
        }
      ]
    },
    {
      "cell_type": "code",
      "execution_count": null,
      "metadata": {
        "colab": {
          "base_uri": "https://localhost:8080/",
          "height": 297
        },
        "id": "8Xvk-QmH7QV0",
        "outputId": "78d3c22e-d142-423b-8b7e-e0d1de7fc1b2"
      },
      "outputs": [
        {
          "output_type": "execute_result",
          "data": {
            "text/plain": [
              "<matplotlib.axes._subplots.AxesSubplot at 0x7f00a197a7d0>"
            ]
          },
          "metadata": {},
          "execution_count": 18
        },
        {
          "output_type": "display_data",
          "data": {
            "text/plain": [
              "<Figure size 432x288 with 1 Axes>"
            ],
            "image/png": "[encoded data removed]"
          },
          "metadata": {
            "needs_background": "light"
          }
        }
      ],
      "source": [
        "# gross weight has outliers\n",
        "sns.boxplot(data=shipment1, x='gross_weight', palette='bright')"
      ]
    },
    {
      "cell_type": "code",
      "source": [
        "d1= shipment1['gross_weight']\n",
        "q1, q3= np.percentile(d1,[25,75])\n",
        "iqr = q3 - q1\n",
        "lower_bound = q1 -(1.5 * iqr) \n",
        "upper_bound = q3 +(1.5 * iqr) \n",
        "print(\"Lower Bound Limit - \") \n",
        "print(lower_bound)\n",
        "print(\"\\nUpper Bound Limit - \")\n",
        "print(upper_bound)\n",
        "\n",
        "med = shipment1['gross_weight'].median()\n",
        "\n",
        "shipment1['gross_weight'] = np.where(shipment1['gross_weight'] > upper_bound, med, shipment1['gross_weight'])\n",
        "sns.boxplot(data=shipment1, x='gross_weight', palette='bright')"
      ],
      "metadata": {
        "id": "t6ynRAZH_OW6",
        "colab": {
          "base_uri": "https://localhost:8080/",
          "height": 384
        },
        "outputId": "60860201-530b-4f85-d07a-01bb02f0e50e"
      },
      "execution_count": null,
      "outputs": [
        {
          "output_type": "stream",
          "name": "stdout",
          "text": [
            "Lower Bound Limit - \n",
            "-195.0\n",
            "\n",
            "Upper Bound Limit - \n",
            "925.0\n"
          ]
        },
        {
          "output_type": "execute_result",
          "data": {
            "text/plain": [
              "<matplotlib.axes._subplots.AxesSubplot at 0x7f008c50c850>"
            ]
          },
          "metadata": {},
          "execution_count": 56
        },
        {
          "output_type": "display_data",
          "data": {
            "text/plain": [
              "<Figure size 432x288 with 1 Axes>"
            ],
            "image/png": "[encoded data removed]"
          },
          "metadata": {
            "needs_background": "light"
          }
        }
      ]
    },
    {
      "cell_type": "code",
      "source": [
        "shipment1.tail()"
      ],
      "metadata": {
        "colab": {
          "base_uri": "https://localhost:8080/",
          "height": 206
        },
        "id": "7FjpJhyzK98G",
        "outputId": "c884b8d1-77d9-4756-cdf3-d740c2b58177"
      },
      "execution_count": null,
      "outputs": [
        {
          "output_type": "execute_result",
          "data": {
            "text/plain": [
              "      drop_off_point  freight_cost  gross_weight  shipment_charges  \\\n",
              "5109               0         90.75        304.00            1.1250   \n",
              "5110               0         90.75        240.00            0.5625   \n",
              "5111               0         90.75        400.00            1.1250   \n",
              "5112               0         90.75        398.00            1.1250   \n",
              "5113               0         90.75        143.16            1.1250   \n",
              "\n",
              "      shipment_mode  shipping_company  shipping_time  \n",
              "5109              1                 0       15.26933  \n",
              "5110              1                 1       12.41192  \n",
              "5111              1                 0        5.68333  \n",
              "5112              1                 0       41.97199  \n",
              "5113              1                 0        5.58981  "
            ],
            "text/html": [
              "\n",
              "  <div id=\"df-f6e674d7-bd84-492a-a13a-41188ea877cd\">\n",
              "    <div class=\"colab-df-container\">\n",
              "      <div>\n",
              "<style scoped>\n",
              "    .dataframe tbody tr th:only-of-type {\n",
              "        vertical-align: middle;\n",
              "    }\n",
              "\n",
              "    .dataframe tbody tr th {\n",
              "        vertical-align: top;\n",
              "    }\n",
              "\n",
              "    .dataframe thead th {\n",
              "        text-align: right;\n",
              "    }\n",
              "</style>\n",
              "<table border=\"1\" class=\"dataframe\">\n",
              "  <thead>\n",
              "    <tr style=\"text-align: right;\">\n",
              "      <th></th>\n",
              "      <th>drop_off_point</th>\n",
              "      <th>freight_cost</th>\n",
              "      <th>gross_weight</th>\n",
              "      <th>shipment_charges</th>\n",
              "      <th>shipment_mode</th>\n",
              "      <th>shipping_company</th>\n",
              "      <th>shipping_time</th>\n",
              "    </tr>\n",
              "  </thead>\n",
              "  <tbody>\n",
              "    <tr>\n",
              "      <th>5109</th>\n",
              "      <td>0</td>\n",
              "      <td>90.75</td>\n",
              "      <td>304.00</td>\n",
              "      <td>1.1250</td>\n",
              "      <td>1</td>\n",
              "      <td>0</td>\n",
              "      <td>15.26933</td>\n",
              "    </tr>\n",
              "    <tr>\n",
              "      <th>5110</th>\n",
              "      <td>0</td>\n",
              "      <td>90.75</td>\n",
              "      <td>240.00</td>\n",
              "      <td>0.5625</td>\n",
              "      <td>1</td>\n",
              "      <td>1</td>\n",
              "      <td>12.41192</td>\n",
              "    </tr>\n",
              "    <tr>\n",
              "      <th>5111</th>\n",
              "      <td>0</td>\n",
              "      <td>90.75</td>\n",
              "      <td>400.00</td>\n",
              "      <td>1.1250</td>\n",
              "      <td>1</td>\n",
              "      <td>0</td>\n",
              "      <td>5.68333</td>\n",
              "    </tr>\n",
              "    <tr>\n",
              "      <th>5112</th>\n",
              "      <td>0</td>\n",
              "      <td>90.75</td>\n",
              "      <td>398.00</td>\n",
              "      <td>1.1250</td>\n",
              "      <td>1</td>\n",
              "      <td>0</td>\n",
              "      <td>41.97199</td>\n",
              "    </tr>\n",
              "    <tr>\n",
              "      <th>5113</th>\n",
              "      <td>0</td>\n",
              "      <td>90.75</td>\n",
              "      <td>143.16</td>\n",
              "      <td>1.1250</td>\n",
              "      <td>1</td>\n",
              "      <td>0</td>\n",
              "      <td>5.58981</td>\n",
              "    </tr>\n",
              "  </tbody>\n",
              "</table>\n",
              "</div>\n",
              "      <button class=\"colab-df-convert\" onclick=\"convertToInteractive('df-f6e674d7-bd84-492a-a13a-41188ea877cd')\"\n",
              "              title=\"Convert this dataframe to an interactive table.\"\n",
              "              style=\"display:none;\">\n",
              "        \n",
              "  <svg xmlns=\"http://www.w3.org/2000/svg\" height=\"24px\"viewBox=\"0 0 24 24\"\n",
              "       width=\"24px\">\n",
              "    <path d=\"M0 0h24v24H0V0z\" fill=\"none\"/>\n",
              "    <path d=\"M18.56 5.44l.94 2.06.94-2.06 2.06-.94-2.06-.94-.94-2.06-.94 2.06-2.06.94zm-11 1L8.5 8.5l.94-2.06 2.06-.94-2.06-.94L8.5 2.5l-.94 2.06-2.06.94zm10 10l.94 2.06.94-2.06 2.06-.94-2.06-.94-.94-2.06-.94 2.06-2.06.94z\"/><path d=\"M17.41 7.96l-1.37-1.37c-.4-.4-.92-.59-1.43-.59-.52 0-1.04.2-1.43.59L10.3 9.45l-7.72 7.72c-.78.78-.78 2.05 0 2.83L4 21.41c.39.39.9.59 1.41.59.51 0 1.02-.2 1.41-.59l7.78-7.78 2.81-2.81c.8-.78.8-2.07 0-2.86zM5.41 20L4 18.59l7.72-7.72 1.47 1.35L5.41 20z\"/>\n",
              "  </svg>\n",
              "      </button>\n",
              "      \n",
              "  <style>\n",
              "    .colab-df-container {\n",
              "      display:flex;\n",
              "      flex-wrap:wrap;\n",
              "      gap: 12px;\n",
              "    }\n",
              "\n",
              "    .colab-df-convert {\n",
              "      background-color: #E8F0FE;\n",
              "      border: none;\n",
              "      border-radius: 50%;\n",
              "      cursor: pointer;\n",
              "      display: none;\n",
              "      fill: #1967D2;\n",
              "      height: 32px;\n",
              "      padding: 0 0 0 0;\n",
              "      width: 32px;\n",
              "    }\n",
              "\n",
              "    .colab-df-convert:hover {\n",
              "      background-color: #E2EBFA;\n",
              "      box-shadow: 0px 1px 2px rgba(60, 64, 67, 0.3), 0px 1px 3px 1px rgba(60, 64, 67, 0.15);\n",
              "      fill: #174EA6;\n",
              "    }\n",
              "\n",
              "    [theme=dark] .colab-df-convert {\n",
              "      background-color: #3B4455;\n",
              "      fill: #D2E3FC;\n",
              "    }\n",
              "\n",
              "    [theme=dark] .colab-df-convert:hover {\n",
              "      background-color: #434B5C;\n",
              "      box-shadow: 0px 1px 3px 1px rgba(0, 0, 0, 0.15);\n",
              "      filter: drop-shadow(0px 1px 2px rgba(0, 0, 0, 0.3));\n",
              "      fill: #FFFFFF;\n",
              "    }\n",
              "  </style>\n",
              "\n",
              "      <script>\n",
              "        const buttonEl =\n",
              "          document.querySelector('#df-f6e674d7-bd84-492a-a13a-41188ea877cd button.colab-df-convert');\n",
              "        buttonEl.style.display =\n",
              "          google.colab.kernel.accessAllowed ? 'block' : 'none';\n",
              "\n",
              "        async function convertToInteractive(key) {\n",
              "          const element = document.querySelector('#df-f6e674d7-bd84-492a-a13a-41188ea877cd');\n",
              "          const dataTable =\n",
              "            await google.colab.kernel.invokeFunction('convertToInteractive',\n",
              "                                                     [key], {});\n",
              "          if (!dataTable) return;\n",
              "\n",
              "          const docLinkHtml = 'Like what you see? Visit the ' +\n",
              "            '<a target=\"_blank\" href=https://colab.research.google.com/notebooks/data_table.ipynb>data table notebook</a>'\n",
              "            + ' to learn more about interactive tables.';\n",
              "          element.innerHTML = '';\n",
              "          dataTable['output_type'] = 'display_data';\n",
              "          await google.colab.output.renderOutput(dataTable, element);\n",
              "          const docLink = document.createElement('div');\n",
              "          docLink.innerHTML = docLinkHtml;\n",
              "          element.appendChild(docLink);\n",
              "        }\n",
              "      </script>\n",
              "    </div>\n",
              "  </div>\n",
              "  "
            ]
          },
          "metadata": {},
          "execution_count": 20
        }
      ]
    },
    {
      "cell_type": "code",
      "execution_count": null,
      "metadata": {
        "colab": {
          "base_uri": "https://localhost:8080/",
          "height": 297
        },
        "id": "iwn2FT6U7TUx",
        "outputId": "0abce4cd-e702-4531-d805-1a097739affe"
      },
      "outputs": [
        {
          "output_type": "execute_result",
          "data": {
            "text/plain": [
              "<matplotlib.axes._subplots.AxesSubplot at 0x7f00a186ba50>"
            ]
          },
          "metadata": {},
          "execution_count": 21
        },
        {
          "output_type": "display_data",
          "data": {
            "text/plain": [
              "<Figure size 432x288 with 1 Axes>"
            ],
            "image/png": "[encoded data removed]"
          },
          "metadata": {
            "needs_background": "light"
          }
        }
      ],
      "source": [
        "# shipment charges doesn't have outliers.\n",
        "sns.boxplot(data=shipment1, x='shipment_charges', palette='bright')"
      ]
    },
    {
      "cell_type": "code",
      "source": [
        "shipment1.head()"
      ],
      "metadata": {
        "colab": {
          "base_uri": "https://localhost:8080/",
          "height": 206
        },
        "id": "b4vpQdYHHtpJ",
        "outputId": "5111db5b-338b-4abd-843c-338ce4d370a4"
      },
      "execution_count": null,
      "outputs": [
        {
          "output_type": "execute_result",
          "data": {
            "text/plain": [
              "   drop_off_point  freight_cost  gross_weight  shipment_charges  \\\n",
              "0               1         88.61         355.0              0.75   \n",
              "1               1         85.65         105.0              0.90   \n",
              "2               1         86.22         100.0              0.75   \n",
              "3               1         94.43        1071.0              1.05   \n",
              "4               1         94.24        2007.0              0.75   \n",
              "\n",
              "   shipment_mode  shipping_company  shipping_time  \n",
              "0              0                 2        5.00741  \n",
              "1              1                 0       21.41215  \n",
              "2              0                 2        5.33692  \n",
              "3              0                 1        5.14792  \n",
              "4              0                 2        5.03067  "
            ],
            "text/html": [
              "\n",
              "  <div id=\"df-7988c960-1853-48af-8240-ae8a2030a75d\">\n",
              "    <div class=\"colab-df-container\">\n",
              "      <div>\n",
              "<style scoped>\n",
              "    .dataframe tbody tr th:only-of-type {\n",
              "        vertical-align: middle;\n",
              "    }\n",
              "\n",
              "    .dataframe tbody tr th {\n",
              "        vertical-align: top;\n",
              "    }\n",
              "\n",
              "    .dataframe thead th {\n",
              "        text-align: right;\n",
              "    }\n",
              "</style>\n",
              "<table border=\"1\" class=\"dataframe\">\n",
              "  <thead>\n",
              "    <tr style=\"text-align: right;\">\n",
              "      <th></th>\n",
              "      <th>drop_off_point</th>\n",
              "      <th>freight_cost</th>\n",
              "      <th>gross_weight</th>\n",
              "      <th>shipment_charges</th>\n",
              "      <th>shipment_mode</th>\n",
              "      <th>shipping_company</th>\n",
              "      <th>shipping_time</th>\n",
              "    </tr>\n",
              "  </thead>\n",
              "  <tbody>\n",
              "    <tr>\n",
              "      <th>0</th>\n",
              "      <td>1</td>\n",
              "      <td>88.61</td>\n",
              "      <td>355.0</td>\n",
              "      <td>0.75</td>\n",
              "      <td>0</td>\n",
              "      <td>2</td>\n",
              "      <td>5.00741</td>\n",
              "    </tr>\n",
              "    <tr>\n",
              "      <th>1</th>\n",
              "      <td>1</td>\n",
              "      <td>85.65</td>\n",
              "      <td>105.0</td>\n",
              "      <td>0.90</td>\n",
              "      <td>1</td>\n",
              "      <td>0</td>\n",
              "      <td>21.41215</td>\n",
              "    </tr>\n",
              "    <tr>\n",
              "      <th>2</th>\n",
              "      <td>1</td>\n",
              "      <td>86.22</td>\n",
              "      <td>100.0</td>\n",
              "      <td>0.75</td>\n",
              "      <td>0</td>\n",
              "      <td>2</td>\n",
              "      <td>5.33692</td>\n",
              "    </tr>\n",
              "    <tr>\n",
              "      <th>3</th>\n",
              "      <td>1</td>\n",
              "      <td>94.43</td>\n",
              "      <td>1071.0</td>\n",
              "      <td>1.05</td>\n",
              "      <td>0</td>\n",
              "      <td>1</td>\n",
              "      <td>5.14792</td>\n",
              "    </tr>\n",
              "    <tr>\n",
              "      <th>4</th>\n",
              "      <td>1</td>\n",
              "      <td>94.24</td>\n",
              "      <td>2007.0</td>\n",
              "      <td>0.75</td>\n",
              "      <td>0</td>\n",
              "      <td>2</td>\n",
              "      <td>5.03067</td>\n",
              "    </tr>\n",
              "  </tbody>\n",
              "</table>\n",
              "</div>\n",
              "      <button class=\"colab-df-convert\" onclick=\"convertToInteractive('df-7988c960-1853-48af-8240-ae8a2030a75d')\"\n",
              "              title=\"Convert this dataframe to an interactive table.\"\n",
              "              style=\"display:none;\">\n",
              "        \n",
              "  <svg xmlns=\"http://www.w3.org/2000/svg\" height=\"24px\"viewBox=\"0 0 24 24\"\n",
              "       width=\"24px\">\n",
              "    <path d=\"M0 0h24v24H0V0z\" fill=\"none\"/>\n",
              "    <path d=\"M18.56 5.44l.94 2.06.94-2.06 2.06-.94-2.06-.94-.94-2.06-.94 2.06-2.06.94zm-11 1L8.5 8.5l.94-2.06 2.06-.94-2.06-.94L8.5 2.5l-.94 2.06-2.06.94zm10 10l.94 2.06.94-2.06 2.06-.94-2.06-.94-.94-2.06-.94 2.06-2.06.94z\"/><path d=\"M17.41 7.96l-1.37-1.37c-.4-.4-.92-.59-1.43-.59-.52 0-1.04.2-1.43.59L10.3 9.45l-7.72 7.72c-.78.78-.78 2.05 0 2.83L4 21.41c.39.39.9.59 1.41.59.51 0 1.02-.2 1.41-.59l7.78-7.78 2.81-2.81c.8-.78.8-2.07 0-2.86zM5.41 20L4 18.59l7.72-7.72 1.47 1.35L5.41 20z\"/>\n",
              "  </svg>\n",
              "      </button>\n",
              "      \n",
              "  <style>\n",
              "    .colab-df-container {\n",
              "      display:flex;\n",
              "      flex-wrap:wrap;\n",
              "      gap: 12px;\n",
              "    }\n",
              "\n",
              "    .colab-df-convert {\n",
              "      background-color: #E8F0FE;\n",
              "      border: none;\n",
              "      border-radius: 50%;\n",
              "      cursor: pointer;\n",
              "      display: none;\n",
              "      fill: #1967D2;\n",
              "      height: 32px;\n",
              "      padding: 0 0 0 0;\n",
              "      width: 32px;\n",
              "    }\n",
              "\n",
              "    .colab-df-convert:hover {\n",
              "      background-color: #E2EBFA;\n",
              "      box-shadow: 0px 1px 2px rgba(60, 64, 67, 0.3), 0px 1px 3px 1px rgba(60, 64, 67, 0.15);\n",
              "      fill: #174EA6;\n",
              "    }\n",
              "\n",
              "    [theme=dark] .colab-df-convert {\n",
              "      background-color: #3B4455;\n",
              "      fill: #D2E3FC;\n",
              "    }\n",
              "\n",
              "    [theme=dark] .colab-df-convert:hover {\n",
              "      background-color: #434B5C;\n",
              "      box-shadow: 0px 1px 3px 1px rgba(0, 0, 0, 0.15);\n",
              "      filter: drop-shadow(0px 1px 2px rgba(0, 0, 0, 0.3));\n",
              "      fill: #FFFFFF;\n",
              "    }\n",
              "  </style>\n",
              "\n",
              "      <script>\n",
              "        const buttonEl =\n",
              "          document.querySelector('#df-7988c960-1853-48af-8240-ae8a2030a75d button.colab-df-convert');\n",
              "        buttonEl.style.display =\n",
              "          google.colab.kernel.accessAllowed ? 'block' : 'none';\n",
              "\n",
              "        async function convertToInteractive(key) {\n",
              "          const element = document.querySelector('#df-7988c960-1853-48af-8240-ae8a2030a75d');\n",
              "          const dataTable =\n",
              "            await google.colab.kernel.invokeFunction('convertToInteractive',\n",
              "                                                     [key], {});\n",
              "          if (!dataTable) return;\n",
              "\n",
              "          const docLinkHtml = 'Like what you see? Visit the ' +\n",
              "            '<a target=\"_blank\" href=https://colab.research.google.com/notebooks/data_table.ipynb>data table notebook</a>'\n",
              "            + ' to learn more about interactive tables.';\n",
              "          element.innerHTML = '';\n",
              "          dataTable['output_type'] = 'display_data';\n",
              "          await google.colab.output.renderOutput(dataTable, element);\n",
              "          const docLink = document.createElement('div');\n",
              "          docLink.innerHTML = docLinkHtml;\n",
              "          element.appendChild(docLink);\n",
              "        }\n",
              "      </script>\n",
              "    </div>\n",
              "  </div>\n",
              "  "
            ]
          },
          "metadata": {},
          "execution_count": 22
        }
      ]
    },
    {
      "cell_type": "markdown",
      "metadata": {
        "id": "MpxAGGKO781Z"
      },
      "source": [
        "We have plotted histogram to see the distribution of data whether it is normal, right skewed or left skewed."
      ]
    },
    {
      "cell_type": "code",
      "execution_count": null,
      "metadata": {
        "colab": {
          "base_uri": "https://localhost:8080/",
          "height": 298
        },
        "id": "7YL7LP8O7WJc",
        "outputId": "e49dc8cd-6401-4658-a5f6-84f2ba52217f"
      },
      "outputs": [
        {
          "output_type": "execute_result",
          "data": {
            "text/plain": [
              "<matplotlib.axes._subplots.AxesSubplot at 0x7f00a1796750>"
            ]
          },
          "metadata": {},
          "execution_count": 23
        },
        {
          "output_type": "display_data",
          "data": {
            "text/plain": [
              "<Figure size 432x288 with 1 Axes>"
            ],
            "image/png": "[encoded data removed]"
          },
          "metadata": {
            "needs_background": "light"
          }
        }
      ],
      "source": [
        "# The distribution of the variable freight cost is right skewed.\n",
        "sns.histplot(data=shipment1, x='freight_cost', palette='bright', kde=True)"
      ]
    },
    {
      "cell_type": "code",
      "execution_count": null,
      "metadata": {
        "colab": {
          "base_uri": "https://localhost:8080/",
          "height": 297
        },
        "id": "2Vx7DNdO7Z6i",
        "outputId": "a668e318-3e7a-4a35-f45f-042bc7ca6e41"
      },
      "outputs": [
        {
          "output_type": "execute_result",
          "data": {
            "text/plain": [
              "<matplotlib.axes._subplots.AxesSubplot at 0x7f00a174a290>"
            ]
          },
          "metadata": {},
          "execution_count": 24
        },
        {
          "output_type": "display_data",
          "data": {
            "text/plain": [
              "<Figure size 432x288 with 1 Axes>"
            ],
            "image/png": "[encoded data removed]"
          },
          "metadata": {
            "needs_background": "light"
          }
        }
      ],
      "source": [
        "\n",
        "#Gross weight is also right skewed.\n",
        "sns.histplot(data=shipment1, x='gross_weight', palette='bright', kde=True)"
      ]
    },
    {
      "cell_type": "code",
      "execution_count": null,
      "metadata": {
        "colab": {
          "base_uri": "https://localhost:8080/",
          "height": 297
        },
        "id": "99igVNos7cLv",
        "outputId": "4f00b403-da3c-4012-b75a-b6cc197103ec"
      },
      "outputs": [
        {
          "output_type": "execute_result",
          "data": {
            "text/plain": [
              "<matplotlib.axes._subplots.AxesSubplot at 0x7f009f597ad0>"
            ]
          },
          "metadata": {},
          "execution_count": 25
        },
        {
          "output_type": "display_data",
          "data": {
            "text/plain": [
              "<Figure size 432x288 with 1 Axes>"
            ],
            "image/png": "[encoded data removed]"
          },
          "metadata": {
            "needs_background": "light"
          }
        }
      ],
      "source": [
        "#Normal distribution with different means***\n",
        "sns.histplot(data=shipment1, x='shipment_charges', palette='bright', kde=True)"
      ]
    },
    {
      "cell_type": "code",
      "execution_count": null,
      "metadata": {
        "colab": {
          "base_uri": "https://localhost:8080/"
        },
        "id": "VMv700SsBu98",
        "outputId": "2f458a7e-aec9-4aad-8869-19e3c134b3ea"
      },
      "outputs": [
        {
          "output_type": "stream",
          "name": "stdout",
          "text": [
            "   freight_cost  gross_weight  shipment_charges  shipping_time\n",
            "0         88.61         355.0              0.75        5.00741\n",
            "1         85.65         105.0              0.90       21.41215\n",
            "2         86.22         100.0              0.75        5.33692\n",
            "3         94.43        1071.0              1.05        5.14792\n",
            "4         94.24        2007.0              0.75        5.03067\n"
          ]
        }
      ],
      "source": [
        "shipment2=shipment1.drop(['drop_off_point','shipment_mode','shipping_company'], axis = 1)\n",
        "print(shipment2.head())"
      ]
    },
    {
      "cell_type": "code",
      "execution_count": null,
      "metadata": {
        "colab": {
          "base_uri": "https://localhost:8080/",
          "height": 175
        },
        "id": "5kTUBVrnkcv4",
        "outputId": "04916f47-9423-4ec9-ccc0-506a4fd2912c"
      },
      "outputs": [
        {
          "output_type": "execute_result",
          "data": {
            "text/plain": [
              "                  freight_cost  gross_weight  shipment_charges  shipping_time\n",
              "freight_cost          1.000000     -0.035342          0.011528      -0.063068\n",
              "gross_weight         -0.035342      1.000000          0.077964       0.034481\n",
              "shipment_charges      0.011528      0.077964          1.000000       0.049514\n",
              "shipping_time        -0.063068      0.034481          0.049514       1.000000"
            ],
            "text/html": [
              "\n",
              "  <div id=\"df-fabd6c39-f3a4-4151-9a80-c1337f9f0c19\">\n",
              "    <div class=\"colab-df-container\">\n",
              "      <div>\n",
              "<style scoped>\n",
              "    .dataframe tbody tr th:only-of-type {\n",
              "        vertical-align: middle;\n",
              "    }\n",
              "\n",
              "    .dataframe tbody tr th {\n",
              "        vertical-align: top;\n",
              "    }\n",
              "\n",
              "    .dataframe thead th {\n",
              "        text-align: right;\n",
              "    }\n",
              "</style>\n",
              "<table border=\"1\" class=\"dataframe\">\n",
              "  <thead>\n",
              "    <tr style=\"text-align: right;\">\n",
              "      <th></th>\n",
              "      <th>freight_cost</th>\n",
              "      <th>gross_weight</th>\n",
              "      <th>shipment_charges</th>\n",
              "      <th>shipping_time</th>\n",
              "    </tr>\n",
              "  </thead>\n",
              "  <tbody>\n",
              "    <tr>\n",
              "      <th>freight_cost</th>\n",
              "      <td>1.000000</td>\n",
              "      <td>-0.035342</td>\n",
              "      <td>0.011528</td>\n",
              "      <td>-0.063068</td>\n",
              "    </tr>\n",
              "    <tr>\n",
              "      <th>gross_weight</th>\n",
              "      <td>-0.035342</td>\n",
              "      <td>1.000000</td>\n",
              "      <td>0.077964</td>\n",
              "      <td>0.034481</td>\n",
              "    </tr>\n",
              "    <tr>\n",
              "      <th>shipment_charges</th>\n",
              "      <td>0.011528</td>\n",
              "      <td>0.077964</td>\n",
              "      <td>1.000000</td>\n",
              "      <td>0.049514</td>\n",
              "    </tr>\n",
              "    <tr>\n",
              "      <th>shipping_time</th>\n",
              "      <td>-0.063068</td>\n",
              "      <td>0.034481</td>\n",
              "      <td>0.049514</td>\n",
              "      <td>1.000000</td>\n",
              "    </tr>\n",
              "  </tbody>\n",
              "</table>\n",
              "</div>\n",
              "      <button class=\"colab-df-convert\" onclick=\"convertToInteractive('df-fabd6c39-f3a4-4151-9a80-c1337f9f0c19')\"\n",
              "              title=\"Convert this dataframe to an interactive table.\"\n",
              "              style=\"display:none;\">\n",
              "        \n",
              "  <svg xmlns=\"http://www.w3.org/2000/svg\" height=\"24px\"viewBox=\"0 0 24 24\"\n",
              "       width=\"24px\">\n",
              "    <path d=\"M0 0h24v24H0V0z\" fill=\"none\"/>\n",
              "    <path d=\"M18.56 5.44l.94 2.06.94-2.06 2.06-.94-2.06-.94-.94-2.06-.94 2.06-2.06.94zm-11 1L8.5 8.5l.94-2.06 2.06-.94-2.06-.94L8.5 2.5l-.94 2.06-2.06.94zm10 10l.94 2.06.94-2.06 2.06-.94-2.06-.94-.94-2.06-.94 2.06-2.06.94z\"/><path d=\"M17.41 7.96l-1.37-1.37c-.4-.4-.92-.59-1.43-.59-.52 0-1.04.2-1.43.59L10.3 9.45l-7.72 7.72c-.78.78-.78 2.05 0 2.83L4 21.41c.39.39.9.59 1.41.59.51 0 1.02-.2 1.41-.59l7.78-7.78 2.81-2.81c.8-.78.8-2.07 0-2.86zM5.41 20L4 18.59l7.72-7.72 1.47 1.35L5.41 20z\"/>\n",
              "  </svg>\n",
              "      </button>\n",
              "      \n",
              "  <style>\n",
              "    .colab-df-container {\n",
              "      display:flex;\n",
              "      flex-wrap:wrap;\n",
              "      gap: 12px;\n",
              "    }\n",
              "\n",
              "    .colab-df-convert {\n",
              "      background-color: #E8F0FE;\n",
              "      border: none;\n",
              "      border-radius: 50%;\n",
              "      cursor: pointer;\n",
              "      display: none;\n",
              "      fill: #1967D2;\n",
              "      height: 32px;\n",
              "      padding: 0 0 0 0;\n",
              "      width: 32px;\n",
              "    }\n",
              "\n",
              "    .colab-df-convert:hover {\n",
              "      background-color: #E2EBFA;\n",
              "      box-shadow: 0px 1px 2px rgba(60, 64, 67, 0.3), 0px 1px 3px 1px rgba(60, 64, 67, 0.15);\n",
              "      fill: #174EA6;\n",
              "    }\n",
              "\n",
              "    [theme=dark] .colab-df-convert {\n",
              "      background-color: #3B4455;\n",
              "      fill: #D2E3FC;\n",
              "    }\n",
              "\n",
              "    [theme=dark] .colab-df-convert:hover {\n",
              "      background-color: #434B5C;\n",
              "      box-shadow: 0px 1px 3px 1px rgba(0, 0, 0, 0.15);\n",
              "      filter: drop-shadow(0px 1px 2px rgba(0, 0, 0, 0.3));\n",
              "      fill: #FFFFFF;\n",
              "    }\n",
              "  </style>\n",
              "\n",
              "      <script>\n",
              "        const buttonEl =\n",
              "          document.querySelector('#df-fabd6c39-f3a4-4151-9a80-c1337f9f0c19 button.colab-df-convert');\n",
              "        buttonEl.style.display =\n",
              "          google.colab.kernel.accessAllowed ? 'block' : 'none';\n",
              "\n",
              "        async function convertToInteractive(key) {\n",
              "          const element = document.querySelector('#df-fabd6c39-f3a4-4151-9a80-c1337f9f0c19');\n",
              "          const dataTable =\n",
              "            await google.colab.kernel.invokeFunction('convertToInteractive',\n",
              "                                                     [key], {});\n",
              "          if (!dataTable) return;\n",
              "\n",
              "          const docLinkHtml = 'Like what you see? Visit the ' +\n",
              "            '<a target=\"_blank\" href=https://colab.research.google.com/notebooks/data_table.ipynb>data table notebook</a>'\n",
              "            + ' to learn more about interactive tables.';\n",
              "          element.innerHTML = '';\n",
              "          dataTable['output_type'] = 'display_data';\n",
              "          await google.colab.output.renderOutput(dataTable, element);\n",
              "          const docLink = document.createElement('div');\n",
              "          docLink.innerHTML = docLinkHtml;\n",
              "          element.appendChild(docLink);\n",
              "        }\n",
              "      </script>\n",
              "    </div>\n",
              "  </div>\n",
              "  "
            ]
          },
          "metadata": {},
          "execution_count": 27
        }
      ],
      "source": [
        "cor=shipment2.corr()\n",
        "cor.head()"
      ]
    },
    {
      "cell_type": "code",
      "execution_count": null,
      "metadata": {
        "colab": {
          "base_uri": "https://localhost:8080/",
          "height": 613
        },
        "id": "UfmN3ZZYWNIf",
        "outputId": "be19d3a6-f8ed-401f-8abb-c181f135036b"
      },
      "outputs": [
        {
          "output_type": "execute_result",
          "data": {
            "text/plain": [
              "<matplotlib.axes._subplots.AxesSubplot at 0x7f00a186ffd0>"
            ]
          },
          "metadata": {},
          "execution_count": 28
        },
        {
          "output_type": "display_data",
          "data": {
            "text/plain": [
              "<Figure size 720x720 with 2 Axes>"
            ],
            "image/png": "[encoded data removed]"
          },
          "metadata": {
            "needs_background": "light"
          }
        }
      ],
      "source": [
        "plt.figure(figsize=(10,10))\n",
        "sns.heatmap(shipment2.corr(),cbar=True,annot=True,cmap='Blues')"
      ]
    },
    {
      "cell_type": "markdown",
      "metadata": {
        "id": "4h2-AFBKt-8x"
      },
      "source": [
        "We are done with EDA. Now we will proceed further with Data Modelling"
      ]
    },
    {
      "cell_type": "markdown",
      "metadata": {
        "id": "pXEB_VUdzkwY"
      },
      "source": [
        "Dividing the features into independent and dependent"
      ]
    },
    {
      "cell_type": "code",
      "execution_count": null,
      "metadata": {
        "id": "vP8PlLJEznA6"
      },
      "outputs": [],
      "source": [
        "Y = shipment1.pop('shipping_time') \n",
        "X = shipment1"
      ]
    },
    {
      "cell_type": "code",
      "execution_count": null,
      "metadata": {
        "colab": {
          "base_uri": "https://localhost:8080/",
          "height": 206
        },
        "id": "jPPTcZfKz9h9",
        "outputId": "003f1648-876c-4923-a17a-ee47392d5190"
      },
      "outputs": [
        {
          "output_type": "execute_result",
          "data": {
            "text/plain": [
              "   drop_off_point  freight_cost  gross_weight  shipment_charges  \\\n",
              "0               1         88.61         355.0              0.75   \n",
              "1               1         85.65         105.0              0.90   \n",
              "2               1         86.22         100.0              0.75   \n",
              "3               1         94.43        1071.0              1.05   \n",
              "4               1         94.24        2007.0              0.75   \n",
              "\n",
              "   shipment_mode  shipping_company  \n",
              "0              0                 2  \n",
              "1              1                 0  \n",
              "2              0                 2  \n",
              "3              0                 1  \n",
              "4              0                 2  "
            ],
            "text/html": [
              "\n",
              "  <div id=\"df-700b65cc-799d-4c52-8daa-3e9286a1f760\">\n",
              "    <div class=\"colab-df-container\">\n",
              "      <div>\n",
              "<style scoped>\n",
              "    .dataframe tbody tr th:only-of-type {\n",
              "        vertical-align: middle;\n",
              "    }\n",
              "\n",
              "    .dataframe tbody tr th {\n",
              "        vertical-align: top;\n",
              "    }\n",
              "\n",
              "    .dataframe thead th {\n",
              "        text-align: right;\n",
              "    }\n",
              "</style>\n",
              "<table border=\"1\" class=\"dataframe\">\n",
              "  <thead>\n",
              "    <tr style=\"text-align: right;\">\n",
              "      <th></th>\n",
              "      <th>drop_off_point</th>\n",
              "      <th>freight_cost</th>\n",
              "      <th>gross_weight</th>\n",
              "      <th>shipment_charges</th>\n",
              "      <th>shipment_mode</th>\n",
              "      <th>shipping_company</th>\n",
              "    </tr>\n",
              "  </thead>\n",
              "  <tbody>\n",
              "    <tr>\n",
              "      <th>0</th>\n",
              "      <td>1</td>\n",
              "      <td>88.61</td>\n",
              "      <td>355.0</td>\n",
              "      <td>0.75</td>\n",
              "      <td>0</td>\n",
              "      <td>2</td>\n",
              "    </tr>\n",
              "    <tr>\n",
              "      <th>1</th>\n",
              "      <td>1</td>\n",
              "      <td>85.65</td>\n",
              "      <td>105.0</td>\n",
              "      <td>0.90</td>\n",
              "      <td>1</td>\n",
              "      <td>0</td>\n",
              "    </tr>\n",
              "    <tr>\n",
              "      <th>2</th>\n",
              "      <td>1</td>\n",
              "      <td>86.22</td>\n",
              "      <td>100.0</td>\n",
              "      <td>0.75</td>\n",
              "      <td>0</td>\n",
              "      <td>2</td>\n",
              "    </tr>\n",
              "    <tr>\n",
              "      <th>3</th>\n",
              "      <td>1</td>\n",
              "      <td>94.43</td>\n",
              "      <td>1071.0</td>\n",
              "      <td>1.05</td>\n",
              "      <td>0</td>\n",
              "      <td>1</td>\n",
              "    </tr>\n",
              "    <tr>\n",
              "      <th>4</th>\n",
              "      <td>1</td>\n",
              "      <td>94.24</td>\n",
              "      <td>2007.0</td>\n",
              "      <td>0.75</td>\n",
              "      <td>0</td>\n",
              "      <td>2</td>\n",
              "    </tr>\n",
              "  </tbody>\n",
              "</table>\n",
              "</div>\n",
              "      <button class=\"colab-df-convert\" onclick=\"convertToInteractive('df-700b65cc-799d-4c52-8daa-3e9286a1f760')\"\n",
              "              title=\"Convert this dataframe to an interactive table.\"\n",
              "              style=\"display:none;\">\n",
              "        \n",
              "  <svg xmlns=\"http://www.w3.org/2000/svg\" height=\"24px\"viewBox=\"0 0 24 24\"\n",
              "       width=\"24px\">\n",
              "    <path d=\"M0 0h24v24H0V0z\" fill=\"none\"/>\n",
              "    <path d=\"M18.56 5.44l.94 2.06.94-2.06 2.06-.94-2.06-.94-.94-2.06-.94 2.06-2.06.94zm-11 1L8.5 8.5l.94-2.06 2.06-.94-2.06-.94L8.5 2.5l-.94 2.06-2.06.94zm10 10l.94 2.06.94-2.06 2.06-.94-2.06-.94-.94-2.06-.94 2.06-2.06.94z\"/><path d=\"M17.41 7.96l-1.37-1.37c-.4-.4-.92-.59-1.43-.59-.52 0-1.04.2-1.43.59L10.3 9.45l-7.72 7.72c-.78.78-.78 2.05 0 2.83L4 21.41c.39.39.9.59 1.41.59.51 0 1.02-.2 1.41-.59l7.78-7.78 2.81-2.81c.8-.78.8-2.07 0-2.86zM5.41 20L4 18.59l7.72-7.72 1.47 1.35L5.41 20z\"/>\n",
              "  </svg>\n",
              "      </button>\n",
              "      \n",
              "  <style>\n",
              "    .colab-df-container {\n",
              "      display:flex;\n",
              "      flex-wrap:wrap;\n",
              "      gap: 12px;\n",
              "    }\n",
              "\n",
              "    .colab-df-convert {\n",
              "      background-color: #E8F0FE;\n",
              "      border: none;\n",
              "      border-radius: 50%;\n",
              "      cursor: pointer;\n",
              "      display: none;\n",
              "      fill: #1967D2;\n",
              "      height: 32px;\n",
              "      padding: 0 0 0 0;\n",
              "      width: 32px;\n",
              "    }\n",
              "\n",
              "    .colab-df-convert:hover {\n",
              "      background-color: #E2EBFA;\n",
              "      box-shadow: 0px 1px 2px rgba(60, 64, 67, 0.3), 0px 1px 3px 1px rgba(60, 64, 67, 0.15);\n",
              "      fill: #174EA6;\n",
              "    }\n",
              "\n",
              "    [theme=dark] .colab-df-convert {\n",
              "      background-color: #3B4455;\n",
              "      fill: #D2E3FC;\n",
              "    }\n",
              "\n",
              "    [theme=dark] .colab-df-convert:hover {\n",
              "      background-color: #434B5C;\n",
              "      box-shadow: 0px 1px 3px 1px rgba(0, 0, 0, 0.15);\n",
              "      filter: drop-shadow(0px 1px 2px rgba(0, 0, 0, 0.3));\n",
              "      fill: #FFFFFF;\n",
              "    }\n",
              "  </style>\n",
              "\n",
              "      <script>\n",
              "        const buttonEl =\n",
              "          document.querySelector('#df-700b65cc-799d-4c52-8daa-3e9286a1f760 button.colab-df-convert');\n",
              "        buttonEl.style.display =\n",
              "          google.colab.kernel.accessAllowed ? 'block' : 'none';\n",
              "\n",
              "        async function convertToInteractive(key) {\n",
              "          const element = document.querySelector('#df-700b65cc-799d-4c52-8daa-3e9286a1f760');\n",
              "          const dataTable =\n",
              "            await google.colab.kernel.invokeFunction('convertToInteractive',\n",
              "                                                     [key], {});\n",
              "          if (!dataTable) return;\n",
              "\n",
              "          const docLinkHtml = 'Like what you see? Visit the ' +\n",
              "            '<a target=\"_blank\" href=https://colab.research.google.com/notebooks/data_table.ipynb>data table notebook</a>'\n",
              "            + ' to learn more about interactive tables.';\n",
              "          element.innerHTML = '';\n",
              "          dataTable['output_type'] = 'display_data';\n",
              "          await google.colab.output.renderOutput(dataTable, element);\n",
              "          const docLink = document.createElement('div');\n",
              "          docLink.innerHTML = docLinkHtml;\n",
              "          element.appendChild(docLink);\n",
              "        }\n",
              "      </script>\n",
              "    </div>\n",
              "  </div>\n",
              "  "
            ]
          },
          "metadata": {},
          "execution_count": 30
        }
      ],
      "source": [
        "X.head()"
      ]
    },
    {
      "cell_type": "code",
      "execution_count": null,
      "metadata": {
        "colab": {
          "base_uri": "https://localhost:8080/"
        },
        "id": "WnNFkmGS2oCd",
        "outputId": "b606482c-ac1f-47eb-a245-7539918b19f3"
      },
      "outputs": [
        {
          "output_type": "execute_result",
          "data": {
            "text/plain": [
              "0     5.00741\n",
              "1    21.41215\n",
              "2     5.33692\n",
              "3     5.14792\n",
              "4     5.03067\n",
              "Name: shipping_time, dtype: float64"
            ]
          },
          "metadata": {},
          "execution_count": 31
        }
      ],
      "source": [
        "Y.head()"
      ]
    },
    {
      "cell_type": "markdown",
      "metadata": {
        "id": "uzQQe4dK0KIm"
      },
      "source": [
        "As seen above shipping time which is dependent is not present in the datasset."
      ]
    },
    {
      "cell_type": "markdown",
      "metadata": {
        "id": "VhI5EMIl0Qja"
      },
      "source": [
        "Modelling\n",
        "1. Dividing the data into Train and Test parts"
      ]
    },
    {
      "cell_type": "markdown",
      "metadata": {
        "id": "OYep4WDSlUaB"
      },
      "source": [
        "The dataset has been split into train and test(unseen data). The test size is 30% and the remaining data is used for training. \n",
        "Random state ensures that the split of data is reproducible.We get same number of data everytime."
      ]
    },
    {
      "cell_type": "code",
      "execution_count": null,
      "metadata": {
        "id": "ebafVPEEiXaI"
      },
      "outputs": [],
      "source": [
        "from sklearn.model_selection import train_test_split\n",
        "X_train, X_test, y_train, y_test = train_test_split(X, Y, test_size=0.30, random_state=123)"
      ]
    },
    {
      "cell_type": "code",
      "execution_count": null,
      "metadata": {
        "colab": {
          "base_uri": "https://localhost:8080/",
          "height": 424
        },
        "id": "W-3YWY7piXaI",
        "outputId": "55c92341-cf6a-4fc6-f745-bc326d13c9fa"
      },
      "outputs": [
        {
          "output_type": "execute_result",
          "data": {
            "text/plain": [
              "      drop_off_point  freight_cost  gross_weight  shipment_charges  \\\n",
              "4234               1     89.900000        405.00              0.75   \n",
              "3346               1     90.400000        111.00              0.75   \n",
              "2450               1     95.002516        297.16              0.75   \n",
              "2147               1     93.198417        800.00              0.75   \n",
              "3586               1     90.775159       1320.00              1.05   \n",
              "...              ...           ...           ...               ...   \n",
              "1593               1     89.750000        455.00              0.90   \n",
              "4060               1     92.484994        220.50              0.75   \n",
              "1346               1     87.775300        235.00              0.90   \n",
              "3454               1     93.660000        113.00              0.75   \n",
              "3582               1     93.050000        605.00              0.90   \n",
              "\n",
              "      shipment_mode  shipping_company  \n",
              "4234              0                 2  \n",
              "3346              0                 2  \n",
              "2450              0                 2  \n",
              "2147              0                 2  \n",
              "3586              0                 1  \n",
              "...             ...               ...  \n",
              "1593              1                 0  \n",
              "4060              0                 2  \n",
              "1346              1                 0  \n",
              "3454              0                 2  \n",
              "3582              1                 0  \n",
              "\n",
              "[3579 rows x 6 columns]"
            ],
            "text/html": [
              "\n",
              "  <div id=\"df-1d56756d-4144-4fbe-ab45-15d2616ce113\">\n",
              "    <div class=\"colab-df-container\">\n",
              "      <div>\n",
              "<style scoped>\n",
              "    .dataframe tbody tr th:only-of-type {\n",
              "        vertical-align: middle;\n",
              "    }\n",
              "\n",
              "    .dataframe tbody tr th {\n",
              "        vertical-align: top;\n",
              "    }\n",
              "\n",
              "    .dataframe thead th {\n",
              "        text-align: right;\n",
              "    }\n",
              "</style>\n",
              "<table border=\"1\" class=\"dataframe\">\n",
              "  <thead>\n",
              "    <tr style=\"text-align: right;\">\n",
              "      <th></th>\n",
              "      <th>drop_off_point</th>\n",
              "      <th>freight_cost</th>\n",
              "      <th>gross_weight</th>\n",
              "      <th>shipment_charges</th>\n",
              "      <th>shipment_mode</th>\n",
              "      <th>shipping_company</th>\n",
              "    </tr>\n",
              "  </thead>\n",
              "  <tbody>\n",
              "    <tr>\n",
              "      <th>4234</th>\n",
              "      <td>1</td>\n",
              "      <td>89.900000</td>\n",
              "      <td>405.00</td>\n",
              "      <td>0.75</td>\n",
              "      <td>0</td>\n",
              "      <td>2</td>\n",
              "    </tr>\n",
              "    <tr>\n",
              "      <th>3346</th>\n",
              "      <td>1</td>\n",
              "      <td>90.400000</td>\n",
              "      <td>111.00</td>\n",
              "      <td>0.75</td>\n",
              "      <td>0</td>\n",
              "      <td>2</td>\n",
              "    </tr>\n",
              "    <tr>\n",
              "      <th>2450</th>\n",
              "      <td>1</td>\n",
              "      <td>95.002516</td>\n",
              "      <td>297.16</td>\n",
              "      <td>0.75</td>\n",
              "      <td>0</td>\n",
              "      <td>2</td>\n",
              "    </tr>\n",
              "    <tr>\n",
              "      <th>2147</th>\n",
              "      <td>1</td>\n",
              "      <td>93.198417</td>\n",
              "      <td>800.00</td>\n",
              "      <td>0.75</td>\n",
              "      <td>0</td>\n",
              "      <td>2</td>\n",
              "    </tr>\n",
              "    <tr>\n",
              "      <th>3586</th>\n",
              "      <td>1</td>\n",
              "      <td>90.775159</td>\n",
              "      <td>1320.00</td>\n",
              "      <td>1.05</td>\n",
              "      <td>0</td>\n",
              "      <td>1</td>\n",
              "    </tr>\n",
              "    <tr>\n",
              "      <th>...</th>\n",
              "      <td>...</td>\n",
              "      <td>...</td>\n",
              "      <td>...</td>\n",
              "      <td>...</td>\n",
              "      <td>...</td>\n",
              "      <td>...</td>\n",
              "    </tr>\n",
              "    <tr>\n",
              "      <th>1593</th>\n",
              "      <td>1</td>\n",
              "      <td>89.750000</td>\n",
              "      <td>455.00</td>\n",
              "      <td>0.90</td>\n",
              "      <td>1</td>\n",
              "      <td>0</td>\n",
              "    </tr>\n",
              "    <tr>\n",
              "      <th>4060</th>\n",
              "      <td>1</td>\n",
              "      <td>92.484994</td>\n",
              "      <td>220.50</td>\n",
              "      <td>0.75</td>\n",
              "      <td>0</td>\n",
              "      <td>2</td>\n",
              "    </tr>\n",
              "    <tr>\n",
              "      <th>1346</th>\n",
              "      <td>1</td>\n",
              "      <td>87.775300</td>\n",
              "      <td>235.00</td>\n",
              "      <td>0.90</td>\n",
              "      <td>1</td>\n",
              "      <td>0</td>\n",
              "    </tr>\n",
              "    <tr>\n",
              "      <th>3454</th>\n",
              "      <td>1</td>\n",
              "      <td>93.660000</td>\n",
              "      <td>113.00</td>\n",
              "      <td>0.75</td>\n",
              "      <td>0</td>\n",
              "      <td>2</td>\n",
              "    </tr>\n",
              "    <tr>\n",
              "      <th>3582</th>\n",
              "      <td>1</td>\n",
              "      <td>93.050000</td>\n",
              "      <td>605.00</td>\n",
              "      <td>0.90</td>\n",
              "      <td>1</td>\n",
              "      <td>0</td>\n",
              "    </tr>\n",
              "  </tbody>\n",
              "</table>\n",
              "<p>3579 rows × 6 columns</p>\n",
              "</div>\n",
              "      <button class=\"colab-df-convert\" onclick=\"convertToInteractive('df-1d56756d-4144-4fbe-ab45-15d2616ce113')\"\n",
              "              title=\"Convert this dataframe to an interactive table.\"\n",
              "              style=\"display:none;\">\n",
              "        \n",
              "  <svg xmlns=\"http://www.w3.org/2000/svg\" height=\"24px\"viewBox=\"0 0 24 24\"\n",
              "       width=\"24px\">\n",
              "    <path d=\"M0 0h24v24H0V0z\" fill=\"none\"/>\n",
              "    <path d=\"M18.56 5.44l.94 2.06.94-2.06 2.06-.94-2.06-.94-.94-2.06-.94 2.06-2.06.94zm-11 1L8.5 8.5l.94-2.06 2.06-.94-2.06-.94L8.5 2.5l-.94 2.06-2.06.94zm10 10l.94 2.06.94-2.06 2.06-.94-2.06-.94-.94-2.06-.94 2.06-2.06.94z\"/><path d=\"M17.41 7.96l-1.37-1.37c-.4-.4-.92-.59-1.43-.59-.52 0-1.04.2-1.43.59L10.3 9.45l-7.72 7.72c-.78.78-.78 2.05 0 2.83L4 21.41c.39.39.9.59 1.41.59.51 0 1.02-.2 1.41-.59l7.78-7.78 2.81-2.81c.8-.78.8-2.07 0-2.86zM5.41 20L4 18.59l7.72-7.72 1.47 1.35L5.41 20z\"/>\n",
              "  </svg>\n",
              "      </button>\n",
              "      \n",
              "  <style>\n",
              "    .colab-df-container {\n",
              "      display:flex;\n",
              "      flex-wrap:wrap;\n",
              "      gap: 12px;\n",
              "    }\n",
              "\n",
              "    .colab-df-convert {\n",
              "      background-color: #E8F0FE;\n",
              "      border: none;\n",
              "      border-radius: 50%;\n",
              "      cursor: pointer;\n",
              "      display: none;\n",
              "      fill: #1967D2;\n",
              "      height: 32px;\n",
              "      padding: 0 0 0 0;\n",
              "      width: 32px;\n",
              "    }\n",
              "\n",
              "    .colab-df-convert:hover {\n",
              "      background-color: #E2EBFA;\n",
              "      box-shadow: 0px 1px 2px rgba(60, 64, 67, 0.3), 0px 1px 3px 1px rgba(60, 64, 67, 0.15);\n",
              "      fill: #174EA6;\n",
              "    }\n",
              "\n",
              "    [theme=dark] .colab-df-convert {\n",
              "      background-color: #3B4455;\n",
              "      fill: #D2E3FC;\n",
              "    }\n",
              "\n",
              "    [theme=dark] .colab-df-convert:hover {\n",
              "      background-color: #434B5C;\n",
              "      box-shadow: 0px 1px 3px 1px rgba(0, 0, 0, 0.15);\n",
              "      filter: drop-shadow(0px 1px 2px rgba(0, 0, 0, 0.3));\n",
              "      fill: #FFFFFF;\n",
              "    }\n",
              "  </style>\n",
              "\n",
              "      <script>\n",
              "        const buttonEl =\n",
              "          document.querySelector('#df-1d56756d-4144-4fbe-ab45-15d2616ce113 button.colab-df-convert');\n",
              "        buttonEl.style.display =\n",
              "          google.colab.kernel.accessAllowed ? 'block' : 'none';\n",
              "\n",
              "        async function convertToInteractive(key) {\n",
              "          const element = document.querySelector('#df-1d56756d-4144-4fbe-ab45-15d2616ce113');\n",
              "          const dataTable =\n",
              "            await google.colab.kernel.invokeFunction('convertToInteractive',\n",
              "                                                     [key], {});\n",
              "          if (!dataTable) return;\n",
              "\n",
              "          const docLinkHtml = 'Like what you see? Visit the ' +\n",
              "            '<a target=\"_blank\" href=https://colab.research.google.com/notebooks/data_table.ipynb>data table notebook</a>'\n",
              "            + ' to learn more about interactive tables.';\n",
              "          element.innerHTML = '';\n",
              "          dataTable['output_type'] = 'display_data';\n",
              "          await google.colab.output.renderOutput(dataTable, element);\n",
              "          const docLink = document.createElement('div');\n",
              "          docLink.innerHTML = docLinkHtml;\n",
              "          element.appendChild(docLink);\n",
              "        }\n",
              "      </script>\n",
              "    </div>\n",
              "  </div>\n",
              "  "
            ]
          },
          "metadata": {},
          "execution_count": 33
        }
      ],
      "source": [
        "X_train"
      ]
    },
    {
      "cell_type": "code",
      "execution_count": null,
      "metadata": {
        "colab": {
          "base_uri": "https://localhost:8080/",
          "height": 424
        },
        "id": "4Z2B4DIViXaJ",
        "outputId": "2c4e9fb0-dacb-439b-fbe5-6e12177252e3"
      },
      "outputs": [
        {
          "output_type": "execute_result",
          "data": {
            "text/plain": [
              "      drop_off_point  freight_cost  gross_weight  shipment_charges  \\\n",
              "621                1         85.85        1171.0            0.9000   \n",
              "5044               0         90.75         200.0            0.5625   \n",
              "2638               1         92.10         153.5            1.0500   \n",
              "288                1         92.65         545.0            0.9000   \n",
              "1079               1         87.10        2008.0            1.0500   \n",
              "...              ...           ...           ...               ...   \n",
              "1748               1         91.96          54.5            1.0500   \n",
              "2828               1         87.87          65.0            1.0500   \n",
              "195                1         92.85         193.5            1.0500   \n",
              "315                1         92.80        1006.0            0.7500   \n",
              "5076               0         90.75         229.1            1.1250   \n",
              "\n",
              "      shipment_mode  shipping_company  \n",
              "621               1                 0  \n",
              "5044              1                 1  \n",
              "2638              0                 1  \n",
              "288               1                 0  \n",
              "1079              0                 1  \n",
              "...             ...               ...  \n",
              "1748              0                 1  \n",
              "2828              0                 1  \n",
              "195               0                 1  \n",
              "315               0                 2  \n",
              "5076              1                 0  \n",
              "\n",
              "[1535 rows x 6 columns]"
            ],
            "text/html": [
              "\n",
              "  <div id=\"df-f55861df-0a6f-47ba-8f48-50cb78ab6a1c\">\n",
              "    <div class=\"colab-df-container\">\n",
              "      <div>\n",
              "<style scoped>\n",
              "    .dataframe tbody tr th:only-of-type {\n",
              "        vertical-align: middle;\n",
              "    }\n",
              "\n",
              "    .dataframe tbody tr th {\n",
              "        vertical-align: top;\n",
              "    }\n",
              "\n",
              "    .dataframe thead th {\n",
              "        text-align: right;\n",
              "    }\n",
              "</style>\n",
              "<table border=\"1\" class=\"dataframe\">\n",
              "  <thead>\n",
              "    <tr style=\"text-align: right;\">\n",
              "      <th></th>\n",
              "      <th>drop_off_point</th>\n",
              "      <th>freight_cost</th>\n",
              "      <th>gross_weight</th>\n",
              "      <th>shipment_charges</th>\n",
              "      <th>shipment_mode</th>\n",
              "      <th>shipping_company</th>\n",
              "    </tr>\n",
              "  </thead>\n",
              "  <tbody>\n",
              "    <tr>\n",
              "      <th>621</th>\n",
              "      <td>1</td>\n",
              "      <td>85.85</td>\n",
              "      <td>1171.0</td>\n",
              "      <td>0.9000</td>\n",
              "      <td>1</td>\n",
              "      <td>0</td>\n",
              "    </tr>\n",
              "    <tr>\n",
              "      <th>5044</th>\n",
              "      <td>0</td>\n",
              "      <td>90.75</td>\n",
              "      <td>200.0</td>\n",
              "      <td>0.5625</td>\n",
              "      <td>1</td>\n",
              "      <td>1</td>\n",
              "    </tr>\n",
              "    <tr>\n",
              "      <th>2638</th>\n",
              "      <td>1</td>\n",
              "      <td>92.10</td>\n",
              "      <td>153.5</td>\n",
              "      <td>1.0500</td>\n",
              "      <td>0</td>\n",
              "      <td>1</td>\n",
              "    </tr>\n",
              "    <tr>\n",
              "      <th>288</th>\n",
              "      <td>1</td>\n",
              "      <td>92.65</td>\n",
              "      <td>545.0</td>\n",
              "      <td>0.9000</td>\n",
              "      <td>1</td>\n",
              "      <td>0</td>\n",
              "    </tr>\n",
              "    <tr>\n",
              "      <th>1079</th>\n",
              "      <td>1</td>\n",
              "      <td>87.10</td>\n",
              "      <td>2008.0</td>\n",
              "      <td>1.0500</td>\n",
              "      <td>0</td>\n",
              "      <td>1</td>\n",
              "    </tr>\n",
              "    <tr>\n",
              "      <th>...</th>\n",
              "      <td>...</td>\n",
              "      <td>...</td>\n",
              "      <td>...</td>\n",
              "      <td>...</td>\n",
              "      <td>...</td>\n",
              "      <td>...</td>\n",
              "    </tr>\n",
              "    <tr>\n",
              "      <th>1748</th>\n",
              "      <td>1</td>\n",
              "      <td>91.96</td>\n",
              "      <td>54.5</td>\n",
              "      <td>1.0500</td>\n",
              "      <td>0</td>\n",
              "      <td>1</td>\n",
              "    </tr>\n",
              "    <tr>\n",
              "      <th>2828</th>\n",
              "      <td>1</td>\n",
              "      <td>87.87</td>\n",
              "      <td>65.0</td>\n",
              "      <td>1.0500</td>\n",
              "      <td>0</td>\n",
              "      <td>1</td>\n",
              "    </tr>\n",
              "    <tr>\n",
              "      <th>195</th>\n",
              "      <td>1</td>\n",
              "      <td>92.85</td>\n",
              "      <td>193.5</td>\n",
              "      <td>1.0500</td>\n",
              "      <td>0</td>\n",
              "      <td>1</td>\n",
              "    </tr>\n",
              "    <tr>\n",
              "      <th>315</th>\n",
              "      <td>1</td>\n",
              "      <td>92.80</td>\n",
              "      <td>1006.0</td>\n",
              "      <td>0.7500</td>\n",
              "      <td>0</td>\n",
              "      <td>2</td>\n",
              "    </tr>\n",
              "    <tr>\n",
              "      <th>5076</th>\n",
              "      <td>0</td>\n",
              "      <td>90.75</td>\n",
              "      <td>229.1</td>\n",
              "      <td>1.1250</td>\n",
              "      <td>1</td>\n",
              "      <td>0</td>\n",
              "    </tr>\n",
              "  </tbody>\n",
              "</table>\n",
              "<p>1535 rows × 6 columns</p>\n",
              "</div>\n",
              "      <button class=\"colab-df-convert\" onclick=\"convertToInteractive('df-f55861df-0a6f-47ba-8f48-50cb78ab6a1c')\"\n",
              "              title=\"Convert this dataframe to an interactive table.\"\n",
              "              style=\"display:none;\">\n",
              "        \n",
              "  <svg xmlns=\"http://www.w3.org/2000/svg\" height=\"24px\"viewBox=\"0 0 24 24\"\n",
              "       width=\"24px\">\n",
              "    <path d=\"M0 0h24v24H0V0z\" fill=\"none\"/>\n",
              "    <path d=\"M18.56 5.44l.94 2.06.94-2.06 2.06-.94-2.06-.94-.94-2.06-.94 2.06-2.06.94zm-11 1L8.5 8.5l.94-2.06 2.06-.94-2.06-.94L8.5 2.5l-.94 2.06-2.06.94zm10 10l.94 2.06.94-2.06 2.06-.94-2.06-.94-.94-2.06-.94 2.06-2.06.94z\"/><path d=\"M17.41 7.96l-1.37-1.37c-.4-.4-.92-.59-1.43-.59-.52 0-1.04.2-1.43.59L10.3 9.45l-7.72 7.72c-.78.78-.78 2.05 0 2.83L4 21.41c.39.39.9.59 1.41.59.51 0 1.02-.2 1.41-.59l7.78-7.78 2.81-2.81c.8-.78.8-2.07 0-2.86zM5.41 20L4 18.59l7.72-7.72 1.47 1.35L5.41 20z\"/>\n",
              "  </svg>\n",
              "      </button>\n",
              "      \n",
              "  <style>\n",
              "    .colab-df-container {\n",
              "      display:flex;\n",
              "      flex-wrap:wrap;\n",
              "      gap: 12px;\n",
              "    }\n",
              "\n",
              "    .colab-df-convert {\n",
              "      background-color: #E8F0FE;\n",
              "      border: none;\n",
              "      border-radius: 50%;\n",
              "      cursor: pointer;\n",
              "      display: none;\n",
              "      fill: #1967D2;\n",
              "      height: 32px;\n",
              "      padding: 0 0 0 0;\n",
              "      width: 32px;\n",
              "    }\n",
              "\n",
              "    .colab-df-convert:hover {\n",
              "      background-color: #E2EBFA;\n",
              "      box-shadow: 0px 1px 2px rgba(60, 64, 67, 0.3), 0px 1px 3px 1px rgba(60, 64, 67, 0.15);\n",
              "      fill: #174EA6;\n",
              "    }\n",
              "\n",
              "    [theme=dark] .colab-df-convert {\n",
              "      background-color: #3B4455;\n",
              "      fill: #D2E3FC;\n",
              "    }\n",
              "\n",
              "    [theme=dark] .colab-df-convert:hover {\n",
              "      background-color: #434B5C;\n",
              "      box-shadow: 0px 1px 3px 1px rgba(0, 0, 0, 0.15);\n",
              "      filter: drop-shadow(0px 1px 2px rgba(0, 0, 0, 0.3));\n",
              "      fill: #FFFFFF;\n",
              "    }\n",
              "  </style>\n",
              "\n",
              "      <script>\n",
              "        const buttonEl =\n",
              "          document.querySelector('#df-f55861df-0a6f-47ba-8f48-50cb78ab6a1c button.colab-df-convert');\n",
              "        buttonEl.style.display =\n",
              "          google.colab.kernel.accessAllowed ? 'block' : 'none';\n",
              "\n",
              "        async function convertToInteractive(key) {\n",
              "          const element = document.querySelector('#df-f55861df-0a6f-47ba-8f48-50cb78ab6a1c');\n",
              "          const dataTable =\n",
              "            await google.colab.kernel.invokeFunction('convertToInteractive',\n",
              "                                                     [key], {});\n",
              "          if (!dataTable) return;\n",
              "\n",
              "          const docLinkHtml = 'Like what you see? Visit the ' +\n",
              "            '<a target=\"_blank\" href=https://colab.research.google.com/notebooks/data_table.ipynb>data table notebook</a>'\n",
              "            + ' to learn more about interactive tables.';\n",
              "          element.innerHTML = '';\n",
              "          dataTable['output_type'] = 'display_data';\n",
              "          await google.colab.output.renderOutput(dataTable, element);\n",
              "          const docLink = document.createElement('div');\n",
              "          docLink.innerHTML = docLinkHtml;\n",
              "          element.appendChild(docLink);\n",
              "        }\n",
              "      </script>\n",
              "    </div>\n",
              "  </div>\n",
              "  "
            ]
          },
          "metadata": {},
          "execution_count": 34
        }
      ],
      "source": [
        "X_test"
      ]
    },
    {
      "cell_type": "markdown",
      "metadata": {
        "id": "I9m07KFtiXaK"
      },
      "source": [
        "We will scale the numeric data (freight_cost, gross_weight and shipment_charges) using StandardScaler.\n",
        "Columns drop_off_point, shipment_mode and shipping_company are already label encoded (categorical)"
      ]
    },
    {
      "cell_type": "markdown",
      "metadata": {
        "id": "qlhk9zsAuI1b"
      },
      "source": [
        "Feature Scaling:- ML algorithms do not perform well when numerical features have different scales.(eg:- x= 6 to 40,000 y=1 to 15). To improve our data we use feature scaling using one of the two methods.\n",
        "1)Normalization- Here we bring the values in the range 0 to 1.(MinMaxScaler in sklearn).This is used when we do not know the distribution of the data.\n",
        "2) Standardization- Here we bring the data with mean 0 and SD =1.\n",
        "Standardization is used when we know that our distribution is gaussian.(Bell Curve)"
      ]
    },
    {
      "cell_type": "code",
      "execution_count": null,
      "metadata": {
        "id": "sSaREy5RiXaK"
      },
      "outputs": [],
      "source": [
        "#Importing libraries which will be used further.\n",
        "from sklearn.preprocessing import StandardScaler\n",
        "from sklearn.metrics import mean_squared_error"
      ]
    },
    {
      "cell_type": "markdown",
      "metadata": {
        "id": "Iy5QV7gLtceI"
      },
      "source": [
        "As seen from the EDA (histogram), we see that some of our variables do not have a normal distribution. In order to perform regression we need to have our data within a certain range. Hence we have performed standardization."
      ]
    },
    {
      "cell_type": "code",
      "execution_count": null,
      "metadata": {
        "colab": {
          "base_uri": "https://localhost:8080/",
          "height": 206
        },
        "id": "AMdC99jqQt92",
        "outputId": "9a1605c2-6e8a-4545-ff02-bfd4794a48b0"
      },
      "outputs": [
        {
          "output_type": "execute_result",
          "data": {
            "text/plain": [
              "      drop_off_point  freight_cost  gross_weight  shipment_charges  \\\n",
              "4234               1      0.422188      0.166459          0.333333   \n",
              "3346               1      0.452282      0.044112          0.333333   \n",
              "2450               1      0.729302      0.121581          0.333333   \n",
              "2147               1      0.620716      0.330836          0.333333   \n",
              "3586               1      0.474863      0.547233          0.866667   \n",
              "\n",
              "      shipment_mode  shipping_company  \n",
              "4234              0                 2  \n",
              "3346              0                 2  \n",
              "2450              0                 2  \n",
              "2147              0                 2  \n",
              "3586              0                 1  "
            ],
            "text/html": [
              "\n",
              "  <div id=\"df-d50b5842-9016-48b9-a7b3-65dce77604ad\">\n",
              "    <div class=\"colab-df-container\">\n",
              "      <div>\n",
              "<style scoped>\n",
              "    .dataframe tbody tr th:only-of-type {\n",
              "        vertical-align: middle;\n",
              "    }\n",
              "\n",
              "    .dataframe tbody tr th {\n",
              "        vertical-align: top;\n",
              "    }\n",
              "\n",
              "    .dataframe thead th {\n",
              "        text-align: right;\n",
              "    }\n",
              "</style>\n",
              "<table border=\"1\" class=\"dataframe\">\n",
              "  <thead>\n",
              "    <tr style=\"text-align: right;\">\n",
              "      <th></th>\n",
              "      <th>drop_off_point</th>\n",
              "      <th>freight_cost</th>\n",
              "      <th>gross_weight</th>\n",
              "      <th>shipment_charges</th>\n",
              "      <th>shipment_mode</th>\n",
              "      <th>shipping_company</th>\n",
              "    </tr>\n",
              "  </thead>\n",
              "  <tbody>\n",
              "    <tr>\n",
              "      <th>4234</th>\n",
              "      <td>1</td>\n",
              "      <td>0.422188</td>\n",
              "      <td>0.166459</td>\n",
              "      <td>0.333333</td>\n",
              "      <td>0</td>\n",
              "      <td>2</td>\n",
              "    </tr>\n",
              "    <tr>\n",
              "      <th>3346</th>\n",
              "      <td>1</td>\n",
              "      <td>0.452282</td>\n",
              "      <td>0.044112</td>\n",
              "      <td>0.333333</td>\n",
              "      <td>0</td>\n",
              "      <td>2</td>\n",
              "    </tr>\n",
              "    <tr>\n",
              "      <th>2450</th>\n",
              "      <td>1</td>\n",
              "      <td>0.729302</td>\n",
              "      <td>0.121581</td>\n",
              "      <td>0.333333</td>\n",
              "      <td>0</td>\n",
              "      <td>2</td>\n",
              "    </tr>\n",
              "    <tr>\n",
              "      <th>2147</th>\n",
              "      <td>1</td>\n",
              "      <td>0.620716</td>\n",
              "      <td>0.330836</td>\n",
              "      <td>0.333333</td>\n",
              "      <td>0</td>\n",
              "      <td>2</td>\n",
              "    </tr>\n",
              "    <tr>\n",
              "      <th>3586</th>\n",
              "      <td>1</td>\n",
              "      <td>0.474863</td>\n",
              "      <td>0.547233</td>\n",
              "      <td>0.866667</td>\n",
              "      <td>0</td>\n",
              "      <td>1</td>\n",
              "    </tr>\n",
              "  </tbody>\n",
              "</table>\n",
              "</div>\n",
              "      <button class=\"colab-df-convert\" onclick=\"convertToInteractive('df-d50b5842-9016-48b9-a7b3-65dce77604ad')\"\n",
              "              title=\"Convert this dataframe to an interactive table.\"\n",
              "              style=\"display:none;\">\n",
              "        \n",
              "  <svg xmlns=\"http://www.w3.org/2000/svg\" height=\"24px\"viewBox=\"0 0 24 24\"\n",
              "       width=\"24px\">\n",
              "    <path d=\"M0 0h24v24H0V0z\" fill=\"none\"/>\n",
              "    <path d=\"M18.56 5.44l.94 2.06.94-2.06 2.06-.94-2.06-.94-.94-2.06-.94 2.06-2.06.94zm-11 1L8.5 8.5l.94-2.06 2.06-.94-2.06-.94L8.5 2.5l-.94 2.06-2.06.94zm10 10l.94 2.06.94-2.06 2.06-.94-2.06-.94-.94-2.06-.94 2.06-2.06.94z\"/><path d=\"M17.41 7.96l-1.37-1.37c-.4-.4-.92-.59-1.43-.59-.52 0-1.04.2-1.43.59L10.3 9.45l-7.72 7.72c-.78.78-.78 2.05 0 2.83L4 21.41c.39.39.9.59 1.41.59.51 0 1.02-.2 1.41-.59l7.78-7.78 2.81-2.81c.8-.78.8-2.07 0-2.86zM5.41 20L4 18.59l7.72-7.72 1.47 1.35L5.41 20z\"/>\n",
              "  </svg>\n",
              "      </button>\n",
              "      \n",
              "  <style>\n",
              "    .colab-df-container {\n",
              "      display:flex;\n",
              "      flex-wrap:wrap;\n",
              "      gap: 12px;\n",
              "    }\n",
              "\n",
              "    .colab-df-convert {\n",
              "      background-color: #E8F0FE;\n",
              "      border: none;\n",
              "      border-radius: 50%;\n",
              "      cursor: pointer;\n",
              "      display: none;\n",
              "      fill: #1967D2;\n",
              "      height: 32px;\n",
              "      padding: 0 0 0 0;\n",
              "      width: 32px;\n",
              "    }\n",
              "\n",
              "    .colab-df-convert:hover {\n",
              "      background-color: #E2EBFA;\n",
              "      box-shadow: 0px 1px 2px rgba(60, 64, 67, 0.3), 0px 1px 3px 1px rgba(60, 64, 67, 0.15);\n",
              "      fill: #174EA6;\n",
              "    }\n",
              "\n",
              "    [theme=dark] .colab-df-convert {\n",
              "      background-color: #3B4455;\n",
              "      fill: #D2E3FC;\n",
              "    }\n",
              "\n",
              "    [theme=dark] .colab-df-convert:hover {\n",
              "      background-color: #434B5C;\n",
              "      box-shadow: 0px 1px 3px 1px rgba(0, 0, 0, 0.15);\n",
              "      filter: drop-shadow(0px 1px 2px rgba(0, 0, 0, 0.3));\n",
              "      fill: #FFFFFF;\n",
              "    }\n",
              "  </style>\n",
              "\n",
              "      <script>\n",
              "        const buttonEl =\n",
              "          document.querySelector('#df-d50b5842-9016-48b9-a7b3-65dce77604ad button.colab-df-convert');\n",
              "        buttonEl.style.display =\n",
              "          google.colab.kernel.accessAllowed ? 'block' : 'none';\n",
              "\n",
              "        async function convertToInteractive(key) {\n",
              "          const element = document.querySelector('#df-d50b5842-9016-48b9-a7b3-65dce77604ad');\n",
              "          const dataTable =\n",
              "            await google.colab.kernel.invokeFunction('convertToInteractive',\n",
              "                                                     [key], {});\n",
              "          if (!dataTable) return;\n",
              "\n",
              "          const docLinkHtml = 'Like what you see? Visit the ' +\n",
              "            '<a target=\"_blank\" href=https://colab.research.google.com/notebooks/data_table.ipynb>data table notebook</a>'\n",
              "            + ' to learn more about interactive tables.';\n",
              "          element.innerHTML = '';\n",
              "          dataTable['output_type'] = 'display_data';\n",
              "          await google.colab.output.renderOutput(dataTable, element);\n",
              "          const docLink = document.createElement('div');\n",
              "          docLink.innerHTML = docLinkHtml;\n",
              "          element.appendChild(docLink);\n",
              "        }\n",
              "      </script>\n",
              "    </div>\n",
              "  </div>\n",
              "  "
            ]
          },
          "metadata": {},
          "execution_count": 36
        }
      ],
      "source": [
        "#Using minmax scaler to scale the data\n",
        "from sklearn.preprocessing import MinMaxScaler\n",
        "scaler = MinMaxScaler()\n",
        "columns_to_scale=['freight_cost', 'gross_weight', 'shipment_charges']\n",
        "X_train[columns_to_scale]  = scaler.fit_transform(X_train[columns_to_scale]) \n",
        "X_test[columns_to_scale]  = scaler.fit_transform(X_test[columns_to_scale]) \n",
        "X_train.head()"
      ]
    },
    {
      "cell_type": "markdown",
      "metadata": {
        "id": "3AMetZd8iXaM"
      },
      "source": [
        "## Linear Regression\n"
      ]
    },
    {
      "cell_type": "code",
      "execution_count": null,
      "metadata": {
        "colab": {
          "base_uri": "https://localhost:8080/"
        },
        "id": "sOHVTnnjq7Z4",
        "outputId": "d6f64ba0-fc4e-4f23-83ec-1c13fade2e0f"
      },
      "outputs": [
        {
          "output_type": "stream",
          "name": "stdout",
          "text": [
            "mean_squared_error:  48.34909910720015\n",
            "Accuracy: 73.55 %.\n"
          ]
        }
      ],
      "source": [
        "from sklearn.linear_model import LinearRegression\n",
        "\n",
        "lr = LinearRegression()\n",
        "# Fitting the model(training data)\n",
        "lr.fit(X_train, y_train)\n",
        "#Predicting on unseen data\n",
        "y_pred_lr = lr.predict(X_test)\n",
        "mse = mean_squared_error(y_pred_lr, y_test)\n",
        "print('mean_squared_error: ', mse)\n",
        "\n",
        "errors = abs(y_pred_lr - y_test)\n",
        "mape = 100 * (errors / y_test)\n",
        "accuracy = 100 - np.mean(mape)\n",
        "print('Accuracy:', round(accuracy, 2), '%.')"
      ]
    },
    {
      "cell_type": "markdown",
      "metadata": {
        "id": "QW3Ifyai_H9X"
      },
      "source": [
        "From the EDA (Boxplot) we noticed that some of our variables had outliers. Thus we need to use an algorithm that is robust to outlier. Random forest is great at handling outliers and hence we have used this algorithm for data modelling."
      ]
    },
    {
      "cell_type": "code",
      "execution_count": null,
      "metadata": {
        "colab": {
          "base_uri": "https://localhost:8080/"
        },
        "id": "Dro1LQcxrzTO",
        "outputId": "2ca2bf43-2036-433f-efde-cfbb5e93291d"
      },
      "outputs": [
        {
          "output_type": "stream",
          "name": "stdout",
          "text": [
            "[20.19563112 21.16146238  5.28974898 ...  5.28140438  5.14127829\n",
            " 24.2046593 ]\n"
          ]
        }
      ],
      "source": [
        "y_pred=lr.predict(X_test)\n",
        "print(y_pred)"
      ]
    },
    {
      "cell_type": "code",
      "execution_count": null,
      "metadata": {
        "colab": {
          "base_uri": "https://localhost:8080/"
        },
        "id": "u1xCgnb7JNSk",
        "outputId": "9f4439ac-c900-4b62-e64f-cc5ff41b6465"
      },
      "outputs": [
        {
          "output_type": "stream",
          "name": "stderr",
          "text": [
            "/usr/local/lib/python3.7/dist-packages/sklearn/base.py:451: UserWarning: X does not have valid feature names, but LinearRegression was fitted with feature names\n",
            "  \"X does not have valid feature names, but\"\n"
          ]
        },
        {
          "output_type": "execute_result",
          "data": {
            "text/plain": [
              "array([5.30428455])"
            ]
          },
          "metadata": {},
          "execution_count": 39
        }
      ],
      "source": [
        "lr.predict([[1,0.214282,0.040020,0.333333,0,2]])"
      ]
    },
    {
      "cell_type": "code",
      "execution_count": null,
      "metadata": {
        "colab": {
          "base_uri": "https://localhost:8080/"
        },
        "id": "t-MzMxb9Ocwm",
        "outputId": "3642002c-6488-4287-ec3c-00342abcde0d"
      },
      "outputs": [
        {
          "output_type": "execute_result",
          "data": {
            "text/plain": [
              "0.5750755495725282"
            ]
          },
          "metadata": {},
          "execution_count": 40
        }
      ],
      "source": [
        "from sklearn.metrics import r2_score\n",
        "r2_score(y_test,y_pred)"
      ]
    },
    {
      "cell_type": "markdown",
      "metadata": {
        "id": "o45mdZL8V_Kk"
      },
      "source": [
        "Predicted values"
      ]
    },
    {
      "cell_type": "code",
      "execution_count": null,
      "metadata": {
        "colab": {
          "base_uri": "https://localhost:8080/",
          "height": 424
        },
        "id": "-HFdQNewV-D2",
        "outputId": "ebbbbbe0-7e42-4957-b7d5-f889f2b5f9e4"
      },
      "outputs": [
        {
          "output_type": "execute_result",
          "data": {
            "text/plain": [
              "      Actul Value  Predicted value  Difference\n",
              "2696     21.40035        20.289133    1.111217\n",
              "248       5.05891         5.248482   -0.189572\n",
              "1071      5.15185         5.244170   -0.092320\n",
              "574       5.04329         5.208011   -0.164721\n",
              "1544      5.15023         5.277536   -0.127306\n",
              "...           ...              ...         ...\n",
              "935       5.06701         5.296576   -0.229566\n",
              "4248      5.38889         5.294229    0.094661\n",
              "418      21.13565        20.211653    0.923997\n",
              "3408      5.14317         5.122557    0.020613\n",
              "3113      5.03484         5.314257   -0.279417\n",
              "\n",
              "[395 rows x 3 columns]"
            ],
            "text/html": [
              "\n",
              "  <div id=\"df-1f59c871-ee08-475e-b91a-2000233fa4f2\">\n",
              "    <div class=\"colab-df-container\">\n",
              "      <div>\n",
              "<style scoped>\n",
              "    .dataframe tbody tr th:only-of-type {\n",
              "        vertical-align: middle;\n",
              "    }\n",
              "\n",
              "    .dataframe tbody tr th {\n",
              "        vertical-align: top;\n",
              "    }\n",
              "\n",
              "    .dataframe thead th {\n",
              "        text-align: right;\n",
              "    }\n",
              "</style>\n",
              "<table border=\"1\" class=\"dataframe\">\n",
              "  <thead>\n",
              "    <tr style=\"text-align: right;\">\n",
              "      <th></th>\n",
              "      <th>Actul Value</th>\n",
              "      <th>Predicted value</th>\n",
              "      <th>Difference</th>\n",
              "    </tr>\n",
              "  </thead>\n",
              "  <tbody>\n",
              "    <tr>\n",
              "      <th>2696</th>\n",
              "      <td>21.40035</td>\n",
              "      <td>20.289133</td>\n",
              "      <td>1.111217</td>\n",
              "    </tr>\n",
              "    <tr>\n",
              "      <th>248</th>\n",
              "      <td>5.05891</td>\n",
              "      <td>5.248482</td>\n",
              "      <td>-0.189572</td>\n",
              "    </tr>\n",
              "    <tr>\n",
              "      <th>1071</th>\n",
              "      <td>5.15185</td>\n",
              "      <td>5.244170</td>\n",
              "      <td>-0.092320</td>\n",
              "    </tr>\n",
              "    <tr>\n",
              "      <th>574</th>\n",
              "      <td>5.04329</td>\n",
              "      <td>5.208011</td>\n",
              "      <td>-0.164721</td>\n",
              "    </tr>\n",
              "    <tr>\n",
              "      <th>1544</th>\n",
              "      <td>5.15023</td>\n",
              "      <td>5.277536</td>\n",
              "      <td>-0.127306</td>\n",
              "    </tr>\n",
              "    <tr>\n",
              "      <th>...</th>\n",
              "      <td>...</td>\n",
              "      <td>...</td>\n",
              "      <td>...</td>\n",
              "    </tr>\n",
              "    <tr>\n",
              "      <th>935</th>\n",
              "      <td>5.06701</td>\n",
              "      <td>5.296576</td>\n",
              "      <td>-0.229566</td>\n",
              "    </tr>\n",
              "    <tr>\n",
              "      <th>4248</th>\n",
              "      <td>5.38889</td>\n",
              "      <td>5.294229</td>\n",
              "      <td>0.094661</td>\n",
              "    </tr>\n",
              "    <tr>\n",
              "      <th>418</th>\n",
              "      <td>21.13565</td>\n",
              "      <td>20.211653</td>\n",
              "      <td>0.923997</td>\n",
              "    </tr>\n",
              "    <tr>\n",
              "      <th>3408</th>\n",
              "      <td>5.14317</td>\n",
              "      <td>5.122557</td>\n",
              "      <td>0.020613</td>\n",
              "    </tr>\n",
              "    <tr>\n",
              "      <th>3113</th>\n",
              "      <td>5.03484</td>\n",
              "      <td>5.314257</td>\n",
              "      <td>-0.279417</td>\n",
              "    </tr>\n",
              "  </tbody>\n",
              "</table>\n",
              "<p>395 rows × 3 columns</p>\n",
              "</div>\n",
              "      <button class=\"colab-df-convert\" onclick=\"convertToInteractive('df-1f59c871-ee08-475e-b91a-2000233fa4f2')\"\n",
              "              title=\"Convert this dataframe to an interactive table.\"\n",
              "              style=\"display:none;\">\n",
              "        \n",
              "  <svg xmlns=\"http://www.w3.org/2000/svg\" height=\"24px\"viewBox=\"0 0 24 24\"\n",
              "       width=\"24px\">\n",
              "    <path d=\"M0 0h24v24H0V0z\" fill=\"none\"/>\n",
              "    <path d=\"M18.56 5.44l.94 2.06.94-2.06 2.06-.94-2.06-.94-.94-2.06-.94 2.06-2.06.94zm-11 1L8.5 8.5l.94-2.06 2.06-.94-2.06-.94L8.5 2.5l-.94 2.06-2.06.94zm10 10l.94 2.06.94-2.06 2.06-.94-2.06-.94-.94-2.06-.94 2.06-2.06.94z\"/><path d=\"M17.41 7.96l-1.37-1.37c-.4-.4-.92-.59-1.43-.59-.52 0-1.04.2-1.43.59L10.3 9.45l-7.72 7.72c-.78.78-.78 2.05 0 2.83L4 21.41c.39.39.9.59 1.41.59.51 0 1.02-.2 1.41-.59l7.78-7.78 2.81-2.81c.8-.78.8-2.07 0-2.86zM5.41 20L4 18.59l7.72-7.72 1.47 1.35L5.41 20z\"/>\n",
              "  </svg>\n",
              "      </button>\n",
              "      \n",
              "  <style>\n",
              "    .colab-df-container {\n",
              "      display:flex;\n",
              "      flex-wrap:wrap;\n",
              "      gap: 12px;\n",
              "    }\n",
              "\n",
              "    .colab-df-convert {\n",
              "      background-color: #E8F0FE;\n",
              "      border: none;\n",
              "      border-radius: 50%;\n",
              "      cursor: pointer;\n",
              "      display: none;\n",
              "      fill: #1967D2;\n",
              "      height: 32px;\n",
              "      padding: 0 0 0 0;\n",
              "      width: 32px;\n",
              "    }\n",
              "\n",
              "    .colab-df-convert:hover {\n",
              "      background-color: #E2EBFA;\n",
              "      box-shadow: 0px 1px 2px rgba(60, 64, 67, 0.3), 0px 1px 3px 1px rgba(60, 64, 67, 0.15);\n",
              "      fill: #174EA6;\n",
              "    }\n",
              "\n",
              "    [theme=dark] .colab-df-convert {\n",
              "      background-color: #3B4455;\n",
              "      fill: #D2E3FC;\n",
              "    }\n",
              "\n",
              "    [theme=dark] .colab-df-convert:hover {\n",
              "      background-color: #434B5C;\n",
              "      box-shadow: 0px 1px 3px 1px rgba(0, 0, 0, 0.15);\n",
              "      filter: drop-shadow(0px 1px 2px rgba(0, 0, 0, 0.3));\n",
              "      fill: #FFFFFF;\n",
              "    }\n",
              "  </style>\n",
              "\n",
              "      <script>\n",
              "        const buttonEl =\n",
              "          document.querySelector('#df-1f59c871-ee08-475e-b91a-2000233fa4f2 button.colab-df-convert');\n",
              "        buttonEl.style.display =\n",
              "          google.colab.kernel.accessAllowed ? 'block' : 'none';\n",
              "\n",
              "        async function convertToInteractive(key) {\n",
              "          const element = document.querySelector('#df-1f59c871-ee08-475e-b91a-2000233fa4f2');\n",
              "          const dataTable =\n",
              "            await google.colab.kernel.invokeFunction('convertToInteractive',\n",
              "                                                     [key], {});\n",
              "          if (!dataTable) return;\n",
              "\n",
              "          const docLinkHtml = 'Like what you see? Visit the ' +\n",
              "            '<a target=\"_blank\" href=https://colab.research.google.com/notebooks/data_table.ipynb>data table notebook</a>'\n",
              "            + ' to learn more about interactive tables.';\n",
              "          element.innerHTML = '';\n",
              "          dataTable['output_type'] = 'display_data';\n",
              "          await google.colab.output.renderOutput(dataTable, element);\n",
              "          const docLink = document.createElement('div');\n",
              "          docLink.innerHTML = docLinkHtml;\n",
              "          element.appendChild(docLink);\n",
              "        }\n",
              "      </script>\n",
              "    </div>\n",
              "  </div>\n",
              "  "
            ]
          },
          "metadata": {},
          "execution_count": 41
        }
      ],
      "source": [
        "pred_y_df=pd.DataFrame({'Actul Value':y_test,'Predicted value':y_pred,'Difference':y_test-y_pred})\n",
        "pred_y_df[5:400]"
      ]
    },
    {
      "cell_type": "code",
      "execution_count": null,
      "metadata": {
        "colab": {
          "base_uri": "https://localhost:8080/"
        },
        "id": "tV9A4hzRYo9V",
        "outputId": "43655d5d-8629-473a-ccc8-7173dc36913b"
      },
      "outputs": [
        {
          "output_type": "execute_result",
          "data": {
            "text/plain": [
              "array([-1.25815632, -0.03827083, -0.39408049,  6.51779143, 20.26681624,\n",
              "        3.4697993 ])"
            ]
          },
          "metadata": {},
          "execution_count": 42
        }
      ],
      "source": [
        "#Checking the coefficients of b1,b2,b3,b4,b5,b6\n",
        "lr.coef_"
      ]
    },
    {
      "cell_type": "code",
      "execution_count": null,
      "metadata": {
        "colab": {
          "base_uri": "https://localhost:8080/"
        },
        "id": "FrGdodxPZ795",
        "outputId": "9c04bc9c-b4b6-44cc-f2bf-f8afb76df545"
      },
      "outputs": [
        {
          "output_type": "execute_result",
          "data": {
            "text/plain": [
              "-2.5257808612809303"
            ]
          },
          "metadata": {},
          "execution_count": 43
        }
      ],
      "source": [
        "#Checking the intercept (b)\n",
        "lr.intercept_"
      ]
    },
    {
      "cell_type": "code",
      "execution_count": null,
      "metadata": {
        "colab": {
          "base_uri": "https://localhost:8080/"
        },
        "id": "pZ_iRXvRua90",
        "outputId": "80e175c8-5633-43f9-8791-77a93e9d0811"
      },
      "outputs": [
        {
          "output_type": "stream",
          "name": "stdout",
          "text": [
            "5.228977779083399\n"
          ]
        }
      ],
      "source": [
        "#Checking multiple linear regression mathematically\n",
        "#Z=B0+B1x1+B2x2+B3x3+B4x4+B5x5+B6x6\n",
        "Z=-1.43622631*1+-0.34155018*0.21428+-0.42549689*0.040020+6.48333985*0.333333+-20.27163419*0+3.4583507*2-2.3223926750284516\n",
        "print(Z)"
      ]
    },
    {
      "cell_type": "code",
      "execution_count": null,
      "metadata": {
        "colab": {
          "base_uri": "https://localhost:8080/"
        },
        "id": "BJNQFAld6bpo",
        "outputId": "d1017a5f-8d7c-4928-94d9-ee32347a34de"
      },
      "outputs": [
        {
          "output_type": "execute_result",
          "data": {
            "text/plain": [
              "5.17600337034093"
            ]
          },
          "metadata": {},
          "execution_count": 45
        }
      ],
      "source": [
        "coeff = [-1.26622329, -0.03783952, -0.28243834,  6.51302604, 20.26628982,\n",
        "        3.46808871]\n",
        "\n",
        "input_param = [1,0.422188,0.436205,0.333333,0,2]\n",
        "\n",
        "total = 0\n",
        "for i in range(0, 6):\n",
        "    total += coeff[i]*input_param[i]\n",
        "    \n",
        "total+=lr.intercept_\n",
        "total"
      ]
    },
    {
      "cell_type": "code",
      "execution_count": null,
      "metadata": {
        "colab": {
          "base_uri": "https://localhost:8080/"
        },
        "id": "3AhPQIEKHqzP",
        "outputId": "fc39316f-b0e1-48bc-fb3f-d8ccc1efd9af"
      },
      "outputs": [
        {
          "output_type": "stream",
          "name": "stderr",
          "text": [
            "/usr/local/lib/python3.7/dist-packages/statsmodels/tools/_testing.py:19: FutureWarning: pandas.util.testing is deprecated. Use the functions in the public API at pandas.testing instead.\n",
            "  import pandas.util.testing as tm\n"
          ]
        },
        {
          "output_type": "stream",
          "name": "stdout",
          "text": [
            "                            OLS Regression Results                            \n",
            "==============================================================================\n",
            "Dep. Variable:          shipping_time   R-squared:                       0.573\n",
            "Model:                            OLS   Adj. R-squared:                  0.572\n",
            "Method:                 Least Squares   F-statistic:                     799.5\n",
            "Date:                Wed, 11 May 2022   Prob (F-statistic):               0.00\n",
            "Time:                        04:21:49   Log-Likelihood:                -11830.\n",
            "No. Observations:                3579   AIC:                         2.367e+04\n",
            "Df Residuals:                    3572   BIC:                         2.372e+04\n",
            "Df Model:                           6                                         \n",
            "Covariance Type:            nonrobust                                         \n",
            "====================================================================================\n",
            "                       coef    std err          t      P>|t|      [0.025      0.975]\n",
            "------------------------------------------------------------------------------------\n",
            "const               -2.5258      3.707     -0.681      0.496      -9.795       4.743\n",
            "drop_off_point      -1.2582      0.601     -2.095      0.036      -2.436      -0.080\n",
            "freight_cost        -0.0383      0.647     -0.059      0.953      -1.308       1.231\n",
            "gross_weight        -0.3941      0.507     -0.777      0.437      -1.388       0.600\n",
            "shipment_charges     6.5178      2.269      2.872      0.004       2.068      10.967\n",
            "shipment_mode       20.2668      2.042      9.927      0.000      16.264      24.269\n",
            "shipping_company     3.4698      1.339      2.592      0.010       0.845       6.095\n",
            "==============================================================================\n",
            "Omnibus:                      315.384   Durbin-Watson:                   2.018\n",
            "Prob(Omnibus):                  0.000   Jarque-Bera (JB):              894.954\n",
            "Skew:                           0.476   Prob(JB):                    4.61e-195\n",
            "Kurtosis:                       5.257   Cond. No.                         84.8\n",
            "==============================================================================\n",
            "\n",
            "Warnings:\n",
            "[1] Standard Errors assume that the covariance matrix of the errors is correctly specified.\n"
          ]
        },
        {
          "output_type": "stream",
          "name": "stderr",
          "text": [
            "/usr/local/lib/python3.7/dist-packages/statsmodels/tsa/tsatools.py:117: FutureWarning: In a future version of pandas all arguments of concat except for the argument 'objs' will be keyword-only\n",
            "  x = pd.concat(x[::order], 1)\n"
          ]
        }
      ],
      "source": [
        "import statsmodels.api as sm\n",
        "X_train_constant = sm.add_constant(X_train)\n",
        "lm = sm.OLS(y_train, X_train_constant).fit()\n",
        "print(lm.summary())"
      ]
    },
    {
      "cell_type": "markdown",
      "metadata": {
        "id": "I1o90gaiiXaQ"
      },
      "source": [
        "## Random Forest"
      ]
    },
    {
      "cell_type": "code",
      "execution_count": null,
      "metadata": {
        "colab": {
          "base_uri": "https://localhost:8080/"
        },
        "id": "K9xg_WQniXaQ",
        "outputId": "00d8b37a-bbaf-4eb4-9aba-6e1d9ee5f584"
      },
      "outputs": [
        {
          "output_type": "stream",
          "name": "stdout",
          "text": [
            "mean_squared_error:  62.47276483613835\n",
            "Accuracy: 71.34 %.\n",
            "Mean Absolute Error: 4.396641753090492\n",
            "Root Mean Squared Error: 7.903971459724431\n"
          ]
        }
      ],
      "source": [
        "from sklearn.ensemble import RandomForestRegressor\n",
        "from sklearn import metrics\n",
        "\n",
        "rf = RandomForestRegressor(n_estimators = 1000, random_state = 15)\n",
        "# Fitting the model(training data)\n",
        "rf.fit(X_train, y_train)\n",
        "#Predicting on unseen data\n",
        "y_pred_rf = rf.predict(X_test)\n",
        "mse = mean_squared_error(y_pred_rf, y_test)\n",
        "print('mean_squared_error: ', mse)\n",
        "\n",
        "errors = abs(y_pred_rf - y_test)\n",
        "#mape-mean absolute percentage error. It is a metric for model evaluation.\n",
        "mape = 100 * (errors / y_test)\n",
        "accuracy = 100 - np.mean(mape)\n",
        "print('Accuracy:', round(accuracy, 2), '%.')\n",
        "print('Mean Absolute Error:', metrics.mean_absolute_error(y_test, y_pred_rf))\n",
        "print('Root Mean Squared Error:', np.sqrt(metrics.mean_squared_error(y_test, y_pred_rf)))"
      ]
    },
    {
      "cell_type": "code",
      "source": [
        "from sklearn.ensemble import RandomForestRegressor\n",
        "\n",
        "rf = RandomForestRegressor(n_estimators = 2000, random_state = 15)\n",
        "# Fitting the model(training data)\n",
        "rf.fit(X_train, y_train)\n",
        "#Predicting on unseen data\n",
        "y_pred_rf = rf.predict(X_test)\n",
        "mse = mean_squared_error(y_pred_rf, y_test)\n",
        "print('mean_squared_error: ', mse)\n",
        "\n",
        "errors = abs(y_pred_rf - y_test)\n",
        "#mape-mean absolute percentage error. It is a metric for model evaluation.\n",
        "mape = 100 * (errors / y_test)\n",
        "accuracy = 100 - np.mean(mape)\n",
        "print('Accuracy:', round(accuracy, 2), '%.')\n",
        "print('Mean Absolute Error:', metrics.mean_absolute_error(y_test, y_pred))\n",
        "print('Root Mean Squared Error:', np.sqrt(metrics.mean_squared_error(y_test, y_pred)))"
      ],
      "metadata": {
        "colab": {
          "base_uri": "https://localhost:8080/"
        },
        "id": "9nKni1uPlPpg",
        "outputId": "55047070-5c7e-4ea1-81bb-51f8f8a522bb"
      },
      "execution_count": null,
      "outputs": [
        {
          "output_type": "stream",
          "name": "stdout",
          "text": [
            "mean_squared_error:  62.417267297007236\n",
            "Accuracy: 71.33 %.\n",
            "Mean Absolute Error: 3.964478320527046\n",
            "Root Mean Squared Error: 6.953351645587914\n"
          ]
        }
      ]
    },
    {
      "cell_type": "markdown",
      "metadata": {
        "id": "SffirPADC35T"
      },
      "source": [
        "**CONCLUSION**:- \n",
        "\n",
        "\n",
        "\n",
        "* Linear Regression gave a better accuracy that is 73.69% as compared to\n",
        "Random Forest that gave an accuracy of 72.01%.\n",
        "* Given the independent variables (\tdrop_off_point,\tfreight_cost,\tgross_weight,\tshipment_charges,\tshipment_mode,\tshipping_company) we have a 73.69% chance of predicting the shipment time.\n",
        "* The accuracy of the model can be increased with a bigger dataset.\n",
        "\n",
        "  \n",
        "\n",
        "\n",
        "\n",
        "\n",
        "\n",
        "\n",
        "\n",
        "\n"
      ]
    }
  ],
  "metadata": {
    "colab": {
      "collapsed_sections": [],
      "name": "Shipment_Time_Prediction (1).ipynb",
      "provenance": []
    },
    "kernelspec": {
      "display_name": "Python 3 (ipykernel)",
      "language": "python",
      "name": "python3"
    },
    "language_info": {
      "codemirror_mode": {
        "name": "ipython",
        "version": 3
      },
      "file_extension": ".py",
      "mimetype": "text/x-python",
      "name": "python",
      "nbconvert_exporter": "python",
      "pygments_lexer": "ipython3",
      "version": "3.8.13"
    }
  },
  "nbformat": 4,
  "nbformat_minor": 0
}